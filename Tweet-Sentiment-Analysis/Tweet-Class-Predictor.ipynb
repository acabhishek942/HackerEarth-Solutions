{
 "cells": [
  {
   "cell_type": "code",
   "execution_count": 1,
   "metadata": {},
   "outputs": [],
   "source": [
    "import numpy as np\n",
    "import pandas as pd\n",
    "\n",
    "train_df = pd.read_csv('dataset/train.csv')\n",
    "test_df = pd.read_csv('dataset/test.csv')"
   ]
  },
  {
   "cell_type": "code",
   "execution_count": 2,
   "metadata": {},
   "outputs": [],
   "source": [
    "from string import punctuation\n",
    "from bs4 import BeautifulSoup\n",
    "import nltk\n",
    "from nltk.corpus import stopwords\n",
    "from nltk.stem.snowball import SnowballStemmer\n",
    "\n",
    "import re\n",
    "\n",
    "\n",
    "#list of stop words in \n",
    "stops = set(stopwords.words('english'))\n",
    "#removing words which are not stop words from \"stops\" (key elements in emotional analysis)\n",
    "not_stop = [\"aren't\",\"couldn't\",\"didn't\",\"doesn't\",\"don't\",\n",
    "            \"hadn't\",\"hasn't\",\"haven't\",\"isn't\",\"mightn't\",\n",
    "            \"mustn't\",\"needn't\",\"no\",\"nor\",\"not\",\"shan't\",\n",
    "            \"shouldn't\",\"wasn't\",\"weren't\",\"wouldn't\"]\n",
    "stops = [x for x in stops if x not in not_stop]\n",
    "stemmer = SnowballStemmer('english')\n",
    "\n",
    "\n",
    "def clean_tweet(tweet):\n",
    "    \"\"\"\n",
    "    this method implements the data preprocessing step such as removel of stop words, stemming\n",
    "    remove punctuation\n",
    "    \"\"\"\n",
    "    # lower case letters\n",
    "    tweet = tweet.lower()\n",
    "    \n",
    "    # remove links\n",
    "    tweet = re.sub(r'^https?:\\/\\/.*[\\r\\n]*', '', tweet, flags=re.MULTILINE)\n",
    "    \n",
    "    # remove punctuation\n",
    "    tweet = ''.join([c for c in tweet if c not in punctuation])\n",
    "    \n",
    "    # stopwords removal\n",
    "    tweet = tweet.split() # split into individual words\n",
    "    tweet = [w for w in tweet if not w in stops]\n",
    "    \n",
    "    # stemming of words\n",
    "    tweet = [stemmer.stem(w) for w in tweet]\n",
    "    \n",
    "    return(' '.join(tweet))"
   ]
  },
  {
   "cell_type": "code",
   "execution_count": 3,
   "metadata": {},
   "outputs": [],
   "source": [
    "train_df['clean_tweet'] = train_df['original_text'].apply(clean_tweet)\n",
    "test_df['clean_tweet'] = test_df['original_text'].apply(clean_tweet)"
   ]
  },
  {
   "cell_type": "code",
   "execution_count": null,
   "metadata": {},
   "outputs": [],
   "source": []
  }
 ],
 "metadata": {
  "kernelspec": {
   "display_name": "Python 3",
   "language": "python",
   "name": "python3"
  },
  "language_info": {
   "codemirror_mode": {
    "name": "ipython",
    "version": 3
   },
   "file_extension": ".py",
   "mimetype": "text/x-python",
   "name": "python",
   "nbconvert_exporter": "python",
   "pygments_lexer": "ipython3",
   "version": "3.7.6"
  }
 },
 "nbformat": 4,
 "nbformat_minor": 2
}
