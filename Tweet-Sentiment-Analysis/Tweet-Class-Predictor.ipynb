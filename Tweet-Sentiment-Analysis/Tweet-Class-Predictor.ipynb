{
 "cells": [
  {
   "cell_type": "code",
   "execution_count": 248,
   "metadata": {},
   "outputs": [],
   "source": [
    "import numpy as np\n",
    "import pandas as pd\n",
    "\n",
    "train_df = pd.read_csv('../dataset/train.csv')\n",
    "test_df = pd.read_csv('../dataset/test.csv')"
   ]
  },
  {
   "cell_type": "code",
   "execution_count": 249,
   "metadata": {},
   "outputs": [
    {
     "data": {
      "text/html": [
       "<div>\n",
       "<style scoped>\n",
       "    .dataframe tbody tr th:only-of-type {\n",
       "        vertical-align: middle;\n",
       "    }\n",
       "\n",
       "    .dataframe tbody tr th {\n",
       "        vertical-align: top;\n",
       "    }\n",
       "\n",
       "    .dataframe thead th {\n",
       "        text-align: right;\n",
       "    }\n",
       "</style>\n",
       "<table border=\"1\" class=\"dataframe\">\n",
       "  <thead>\n",
       "    <tr style=\"text-align: right;\">\n",
       "      <th></th>\n",
       "      <th>id</th>\n",
       "      <th>original_text</th>\n",
       "      <th>lang</th>\n",
       "      <th>retweet_count</th>\n",
       "      <th>original_author</th>\n",
       "      <th>sentiment_class</th>\n",
       "    </tr>\n",
       "  </thead>\n",
       "  <tbody>\n",
       "    <tr>\n",
       "      <th>0</th>\n",
       "      <td>1.245025e+18</td>\n",
       "      <td>Happy #MothersDay to all you amazing mothers o...</td>\n",
       "      <td>en</td>\n",
       "      <td>0</td>\n",
       "      <td>BeenXXPired</td>\n",
       "      <td>0</td>\n",
       "    </tr>\n",
       "    <tr>\n",
       "      <th>1</th>\n",
       "      <td>1.245759e+18</td>\n",
       "      <td>Happy Mothers Day Mum - I'm sorry I can't be t...</td>\n",
       "      <td>en</td>\n",
       "      <td>1</td>\n",
       "      <td>FestiveFeeling</td>\n",
       "      <td>0</td>\n",
       "    </tr>\n",
       "    <tr>\n",
       "      <th>2</th>\n",
       "      <td>1.246087e+18</td>\n",
       "      <td>Happy mothers day To all This doing a mothers ...</td>\n",
       "      <td>en</td>\n",
       "      <td>0</td>\n",
       "      <td>KrisAllenSak</td>\n",
       "      <td>-1</td>\n",
       "    </tr>\n",
       "    <tr>\n",
       "      <th>3</th>\n",
       "      <td>1.244803e+18</td>\n",
       "      <td>Happy mothers day to this beautiful woman...ro...</td>\n",
       "      <td>en</td>\n",
       "      <td>0</td>\n",
       "      <td>Queenuchee</td>\n",
       "      <td>0</td>\n",
       "    </tr>\n",
       "    <tr>\n",
       "      <th>4</th>\n",
       "      <td>1.244876e+18</td>\n",
       "      <td>Remembering the 3 most amazing ladies who made...</td>\n",
       "      <td>en</td>\n",
       "      <td>0</td>\n",
       "      <td>brittan17446794</td>\n",
       "      <td>-1</td>\n",
       "    </tr>\n",
       "  </tbody>\n",
       "</table>\n",
       "</div>"
      ],
      "text/plain": [
       "             id                                      original_text lang  \\\n",
       "0  1.245025e+18  Happy #MothersDay to all you amazing mothers o...   en   \n",
       "1  1.245759e+18  Happy Mothers Day Mum - I'm sorry I can't be t...   en   \n",
       "2  1.246087e+18  Happy mothers day To all This doing a mothers ...   en   \n",
       "3  1.244803e+18  Happy mothers day to this beautiful woman...ro...   en   \n",
       "4  1.244876e+18  Remembering the 3 most amazing ladies who made...   en   \n",
       "\n",
       "  retweet_count  original_author  sentiment_class  \n",
       "0             0      BeenXXPired                0  \n",
       "1             1   FestiveFeeling                0  \n",
       "2             0     KrisAllenSak               -1  \n",
       "3             0       Queenuchee                0  \n",
       "4             0  brittan17446794               -1  "
      ]
     },
     "execution_count": 249,
     "metadata": {},
     "output_type": "execute_result"
    }
   ],
   "source": [
    "train_df.head()"
   ]
  },
  {
   "cell_type": "code",
   "execution_count": 250,
   "metadata": {},
   "outputs": [],
   "source": [
    "from __future__ import division\n",
    "from collections import Counter\n",
    "import re, nltk\n",
    "\n",
    "WORDS = nltk.corpus.brown.words()\n",
    "COUNTS = Counter(WORDS)\n",
    "\n",
    "def pdist(counter):\n",
    "    \"Make a probability distribution, given evidence from a Counter.\"\n",
    "    N = sum(counter.values())\n",
    "    return lambda x: counter[x]/N\n",
    "\n",
    "P = pdist(COUNTS)\n",
    "\n",
    "def Pwords(words):\n",
    "    \"Probability of words, assuming each word is independent of others.\"\n",
    "    return product(P(w) for w in words)\n",
    "\n",
    "def product(nums):\n",
    "    \"Multiply the numbers together.  (Like `sum`, but with multiplication.)\"\n",
    "    result = 1\n",
    "    for x in nums:\n",
    "        result *= x\n",
    "    return result\n",
    "\n",
    "def splits(text, start=0, L=20):\n",
    "    \"Return a list of all (first, rest) pairs; start <= len(first) <= L.\"\n",
    "    return [(text[:i], text[i:]) \n",
    "            for i in range(start, min(len(text), L)+1)]\n",
    "\n",
    "def segment(text):\n",
    "    \"Return a list of words that is the most probable segmentation of text.\"\n",
    "    if not text: \n",
    "        return []\n",
    "    else:\n",
    "        candidates = ([first] + segment(rest) \n",
    "                      for (first, rest) in splits(text, 1))\n",
    "        return max(candidates, key=Pwords)\n",
    "    \n",
    "# print(segment('mothersday'))"
   ]
  },
  {
   "cell_type": "code",
   "execution_count": 251,
   "metadata": {},
   "outputs": [],
   "source": [
    "from nltk.tokenize import TweetTokenizer # a tweet tokenizer from nltk.\n",
    "import re\n",
    "from nltk.corpus import stopwords\n",
    "from nltk.stem.snowball import SnowballStemmer\n",
    "\n",
    "tokenizer = TweetTokenizer()\n",
    "\n",
    "#list of stop words in \n",
    "stops = set(stopwords.words('english'))\n",
    "#removing words which are not stop words from \"stops\" (key elements in emotional analysis)\n",
    "not_stop = [\"aren't\",\"couldn't\",\"didn't\",\"doesn't\",\"don't\",\n",
    "            \"hadn't\",\"hasn't\",\"haven't\",\"isn't\",\"mightn't\",\n",
    "            \"mustn't\",\"needn't\",\"no\",\"nor\",\"not\",\"shan't\",\n",
    "            \"shouldn't\",\"wasn't\",\"weren't\",\"wouldn't\"]\n",
    "\n",
    "for i in not_stop:\n",
    "    stops.remove(i)\n",
    "\n",
    "def tokenize(tweet):\n",
    "    \n",
    "    tweet = str(tweet.lower())\n",
    "#     tweet = tweet.split(\" \")\n",
    "    tweet = \" \".join([w for w in tweet.split(\" \") if not w in stops])\n",
    "    tweet = re.sub('http[s]?://[\\s](?:[a-zA-Z]|[0-9]|[$-_@.&+]|[!*\\(\\),]|(?:%[0-9a-fA-F][0-9a-fA-F]))+', '', tweet)\n",
    "    tweet = re.sub('pic.twitter.com/(?:[a-zA-Z]|[0-9]|[$-_@.&+]|[!*\\(\\),]|(?:%[0-9a-fA-F][0-9a-fA-F]))+', '', tweet)\n",
    "    tweet = re.sub('https://www.[\\s](?:[a-zA-Z]|[0-9]|[$-_@.&+]|[!*\\(\\),]|[\\s]|(?:%[0-9a-fA-F][0-9a-fA-F]))+', '', tweet)\n",
    "    tweet = re.sub('[^A-Za-z0-9\\s]+', '', tweet)\n",
    "    tokens = tokenizer.tokenize(tweet)\n",
    "    tokens = list(filter(lambda t: not t.startswith('@'), tokens))\n",
    "    tokens = list(filter(lambda t: not t.startswith('#'), tokens))\n",
    "    return tokens\n",
    "\n",
    "    \n",
    "def postprocess(data):\n",
    "    data['tokens'] = data['original_text'].apply(tokenize)  ## progress_map is a variant of the map function plus a progress bar. Handy to monitor DataFrame creations.\n",
    "    print\n",
    "    data = data[data.tokens != 'NC']\n",
    "    return data\n",
    "\n",
    "data = postprocess(train_df)"
   ]
  },
  {
   "cell_type": "code",
   "execution_count": 252,
   "metadata": {},
   "outputs": [
    {
     "name": "stdout",
     "output_type": "stream",
     "text": [
      "['happy', 'mothers', 'day', 'mothers', 'strange', 'time', 'especially', '51walsh', 'catherinemwalsh', '20', 'bailesae', 'guys', 'set', 'standard', 'old', 'stratford']\n"
     ]
    }
   ],
   "source": [
    "print(tokenize(\"Happy mothers day to all the mothers at this very strange time, especially 51.walsh, catherinemwalsh20 and bailesae you guys set the standard!! @Old Stratford https://www. instagram.com/p/B-Cb1r4D1_Kc wn9a_vQzxtCkRXEd9Eu4X6bZ2o0/?igshid=1wzimo2v391rp …\"))"
   ]
  },
  {
   "cell_type": "code",
   "execution_count": 253,
   "metadata": {},
   "outputs": [
    {
     "data": {
      "text/html": [
       "<div>\n",
       "<style scoped>\n",
       "    .dataframe tbody tr th:only-of-type {\n",
       "        vertical-align: middle;\n",
       "    }\n",
       "\n",
       "    .dataframe tbody tr th {\n",
       "        vertical-align: top;\n",
       "    }\n",
       "\n",
       "    .dataframe thead th {\n",
       "        text-align: right;\n",
       "    }\n",
       "</style>\n",
       "<table border=\"1\" class=\"dataframe\">\n",
       "  <thead>\n",
       "    <tr style=\"text-align: right;\">\n",
       "      <th></th>\n",
       "      <th>id</th>\n",
       "      <th>original_text</th>\n",
       "      <th>lang</th>\n",
       "      <th>retweet_count</th>\n",
       "      <th>original_author</th>\n",
       "      <th>sentiment_class</th>\n",
       "      <th>tokens</th>\n",
       "    </tr>\n",
       "  </thead>\n",
       "  <tbody>\n",
       "    <tr>\n",
       "      <th>0</th>\n",
       "      <td>1.245025e+18</td>\n",
       "      <td>Happy #MothersDay to all you amazing mothers o...</td>\n",
       "      <td>en</td>\n",
       "      <td>0</td>\n",
       "      <td>BeenXXPired</td>\n",
       "      <td>0</td>\n",
       "      <td>[happy, mothersday, amazing, mothers, there, k...</td>\n",
       "    </tr>\n",
       "    <tr>\n",
       "      <th>1</th>\n",
       "      <td>1.245759e+18</td>\n",
       "      <td>Happy Mothers Day Mum - I'm sorry I can't be t...</td>\n",
       "      <td>en</td>\n",
       "      <td>1</td>\n",
       "      <td>FestiveFeeling</td>\n",
       "      <td>0</td>\n",
       "      <td>[happy, mothers, day, mum, im, sorry, cant, br...</td>\n",
       "    </tr>\n",
       "    <tr>\n",
       "      <th>2</th>\n",
       "      <td>1.246087e+18</td>\n",
       "      <td>Happy mothers day To all This doing a mothers ...</td>\n",
       "      <td>en</td>\n",
       "      <td>0</td>\n",
       "      <td>KrisAllenSak</td>\n",
       "      <td>-1</td>\n",
       "      <td>[happy, mothers, day, mothers, days, work, tod...</td>\n",
       "    </tr>\n",
       "    <tr>\n",
       "      <th>3</th>\n",
       "      <td>1.244803e+18</td>\n",
       "      <td>Happy mothers day to this beautiful woman...ro...</td>\n",
       "      <td>en</td>\n",
       "      <td>0</td>\n",
       "      <td>Queenuchee</td>\n",
       "      <td>0</td>\n",
       "      <td>[happy, mothers, day, beautiful, womanroyalty,...</td>\n",
       "    </tr>\n",
       "    <tr>\n",
       "      <th>4</th>\n",
       "      <td>1.244876e+18</td>\n",
       "      <td>Remembering the 3 most amazing ladies who made...</td>\n",
       "      <td>en</td>\n",
       "      <td>0</td>\n",
       "      <td>brittan17446794</td>\n",
       "      <td>-1</td>\n",
       "      <td>[remembering, 3, amazing, ladies, made, am, la...</td>\n",
       "    </tr>\n",
       "  </tbody>\n",
       "</table>\n",
       "</div>"
      ],
      "text/plain": [
       "             id                                      original_text lang  \\\n",
       "0  1.245025e+18  Happy #MothersDay to all you amazing mothers o...   en   \n",
       "1  1.245759e+18  Happy Mothers Day Mum - I'm sorry I can't be t...   en   \n",
       "2  1.246087e+18  Happy mothers day To all This doing a mothers ...   en   \n",
       "3  1.244803e+18  Happy mothers day to this beautiful woman...ro...   en   \n",
       "4  1.244876e+18  Remembering the 3 most amazing ladies who made...   en   \n",
       "\n",
       "  retweet_count  original_author  sentiment_class  \\\n",
       "0             0      BeenXXPired                0   \n",
       "1             1   FestiveFeeling                0   \n",
       "2             0     KrisAllenSak               -1   \n",
       "3             0       Queenuchee                0   \n",
       "4             0  brittan17446794               -1   \n",
       "\n",
       "                                              tokens  \n",
       "0  [happy, mothersday, amazing, mothers, there, k...  \n",
       "1  [happy, mothers, day, mum, im, sorry, cant, br...  \n",
       "2  [happy, mothers, day, mothers, days, work, tod...  \n",
       "3  [happy, mothers, day, beautiful, womanroyalty,...  \n",
       "4  [remembering, 3, amazing, ladies, made, am, la...  "
      ]
     },
     "execution_count": 253,
     "metadata": {},
     "output_type": "execute_result"
    }
   ],
   "source": [
    "data.head()"
   ]
  },
  {
   "cell_type": "code",
   "execution_count": 254,
   "metadata": {},
   "outputs": [],
   "source": [
    "# from sklearn.model_selection import train_test_split\n",
    "# x_train_to_labelize, x_val_to_labelize, y_train, y_val = train_test_split(np.array(data['tokens']),\n",
    "#                                                     np.array(data['sentiment_class']), test_size=0.2)\n",
    "\n",
    "x_train_to_labelize = np.array(data['tokens'])\n",
    "y_train = np.array(data['sentiment_class'])"
   ]
  },
  {
   "cell_type": "code",
   "execution_count": 255,
   "metadata": {},
   "outputs": [
    {
     "name": "stderr",
     "output_type": "stream",
     "text": [
      "/Users/megharana/Documents/STDDrugsEffectiveness/drugEffectiveness/lib/python3.7/site-packages/tqdm/std.py:666: FutureWarning: The Panel class is removed from pandas. Accessing it from the top-level namespace will also be removed in the next version\n",
      "  from pandas import Panel\n",
      "0it [00:00, ?it/s]/Users/megharana/Documents/STDDrugsEffectiveness/drugEffectiveness/lib/python3.7/site-packages/ipykernel_launcher.py:10: DeprecationWarning: Call to deprecated `LabeledSentence` (Class will be removed in 4.0.0, use TaggedDocument instead).\n",
      "  # Remove the CWD from sys.path while we load stuff.\n",
      "3235it [00:00, 70759.95it/s]\n"
     ]
    }
   ],
   "source": [
    "from tqdm import tqdm\n",
    "from gensim.models import doc2vec, Word2Vec\n",
    "tqdm.pandas(desc=\"progress-bar\")\n",
    "LabeledSentence = doc2vec.LabeledSentence\n",
    "\n",
    "def labelizeTweets(tweets, label_type):\n",
    "    labelized = []\n",
    "    for i,v in tqdm(enumerate(tweets)):\n",
    "        label = '%s_%s'%(label_type,i)\n",
    "        labelized.append(LabeledSentence(v, [label]))\n",
    "    return labelized\n",
    "\n",
    "x_train = labelizeTweets(x_train_to_labelize, 'TRAIN')\n",
    "# x_val = labelizeTweets(x_val_to_labelize, 'VAL')"
   ]
  },
  {
   "cell_type": "code",
   "execution_count": 256,
   "metadata": {},
   "outputs": [
    {
     "data": {
      "text/plain": [
       "LabeledSentence(words=['happy', 'mothersday', 'amazing', 'mothers', 'there', 'know', 'hard', 'not', 'able', 'see', 'mothers', 'today', 'us', 'protect', 'vulnerable', 'members', 'society', 'beatcoronavirus'], tags=['TRAIN_0'])"
      ]
     },
     "execution_count": 256,
     "metadata": {},
     "output_type": "execute_result"
    }
   ],
   "source": [
    "x_train[0]"
   ]
  },
  {
   "cell_type": "code",
   "execution_count": 307,
   "metadata": {},
   "outputs": [
    {
     "name": "stderr",
     "output_type": "stream",
     "text": [
      "100%|██████████| 3235/3235 [00:00<00:00, 629369.33it/s]\n",
      "100%|██████████| 3235/3235 [00:00<00:00, 1540657.82it/s]\n"
     ]
    },
    {
     "data": {
      "text/plain": [
       "(268979, 573471)"
      ]
     },
     "execution_count": 307,
     "metadata": {},
     "output_type": "execute_result"
    }
   ],
   "source": [
    "n_dim = 500\n",
    "tweet_w2v = Word2Vec(size=n_dim, min_count=10)\n",
    "tweet_w2v.build_vocab([x.words for x in tqdm(x_train)])\n",
    "tweet_w2v.train([x.words for x in tqdm(x_train)], total_examples=len(x_train), epochs=9)"
   ]
  },
  {
   "cell_type": "code",
   "execution_count": 308,
   "metadata": {},
   "outputs": [
    {
     "name": "stderr",
     "output_type": "stream",
     "text": [
      "/Users/megharana/Documents/STDDrugsEffectiveness/drugEffectiveness/lib/python3.7/site-packages/ipykernel_launcher.py:1: DeprecationWarning: Call to deprecated `most_similar` (Method will be removed in 4.0.0, use self.wv.most_similar() instead).\n",
      "  \"\"\"Entry point for launching an IPython kernel.\n"
     ]
    },
    {
     "data": {
      "text/plain": [
       "[('wonderful', 0.9971985220909119),\n",
       " ('there', 0.9964075088500977),\n",
       " ('amazing', 0.9961796402931213),\n",
       " ('day', 0.9933226108551025),\n",
       " ('mothers', 0.9914435744285583),\n",
       " ('mums', 0.9900673627853394),\n",
       " ('beautiful', 0.9884551763534546),\n",
       " ('mother', 0.9851505160331726),\n",
       " ('women', 0.9838199019432068),\n",
       " ('wishing', 0.9832685589790344)]"
      ]
     },
     "execution_count": 308,
     "metadata": {},
     "output_type": "execute_result"
    }
   ],
   "source": [
    "tweet_w2v.most_similar('happy')"
   ]
  },
  {
   "cell_type": "code",
   "execution_count": 309,
   "metadata": {},
   "outputs": [
    {
     "data": {
      "text/html": [
       "\n",
       "    <div class=\"bk-root\">\n",
       "        <a href=\"https://bokeh.org\" target=\"_blank\" class=\"bk-logo bk-logo-small bk-logo-notebook\"></a>\n",
       "        <span id=\"2729\">Loading BokehJS ...</span>\n",
       "    </div>"
      ]
     },
     "metadata": {},
     "output_type": "display_data"
    },
    {
     "data": {
      "application/javascript": [
       "\n",
       "(function(root) {\n",
       "  function now() {\n",
       "    return new Date();\n",
       "  }\n",
       "\n",
       "  var force = true;\n",
       "\n",
       "  if (typeof root._bokeh_onload_callbacks === \"undefined\" || force === true) {\n",
       "    root._bokeh_onload_callbacks = [];\n",
       "    root._bokeh_is_loading = undefined;\n",
       "  }\n",
       "\n",
       "  var JS_MIME_TYPE = 'application/javascript';\n",
       "  var HTML_MIME_TYPE = 'text/html';\n",
       "  var EXEC_MIME_TYPE = 'application/vnd.bokehjs_exec.v0+json';\n",
       "  var CLASS_NAME = 'output_bokeh rendered_html';\n",
       "\n",
       "  /**\n",
       "   * Render data to the DOM node\n",
       "   */\n",
       "  function render(props, node) {\n",
       "    var script = document.createElement(\"script\");\n",
       "    node.appendChild(script);\n",
       "  }\n",
       "\n",
       "  /**\n",
       "   * Handle when an output is cleared or removed\n",
       "   */\n",
       "  function handleClearOutput(event, handle) {\n",
       "    var cell = handle.cell;\n",
       "\n",
       "    var id = cell.output_area._bokeh_element_id;\n",
       "    var server_id = cell.output_area._bokeh_server_id;\n",
       "    // Clean up Bokeh references\n",
       "    if (id != null && id in Bokeh.index) {\n",
       "      Bokeh.index[id].model.document.clear();\n",
       "      delete Bokeh.index[id];\n",
       "    }\n",
       "\n",
       "    if (server_id !== undefined) {\n",
       "      // Clean up Bokeh references\n",
       "      var cmd = \"from bokeh.io.state import curstate; print(curstate().uuid_to_server['\" + server_id + \"'].get_sessions()[0].document.roots[0]._id)\";\n",
       "      cell.notebook.kernel.execute(cmd, {\n",
       "        iopub: {\n",
       "          output: function(msg) {\n",
       "            var id = msg.content.text.trim();\n",
       "            if (id in Bokeh.index) {\n",
       "              Bokeh.index[id].model.document.clear();\n",
       "              delete Bokeh.index[id];\n",
       "            }\n",
       "          }\n",
       "        }\n",
       "      });\n",
       "      // Destroy server and session\n",
       "      var cmd = \"import bokeh.io.notebook as ion; ion.destroy_server('\" + server_id + \"')\";\n",
       "      cell.notebook.kernel.execute(cmd);\n",
       "    }\n",
       "  }\n",
       "\n",
       "  /**\n",
       "   * Handle when a new output is added\n",
       "   */\n",
       "  function handleAddOutput(event, handle) {\n",
       "    var output_area = handle.output_area;\n",
       "    var output = handle.output;\n",
       "\n",
       "    // limit handleAddOutput to display_data with EXEC_MIME_TYPE content only\n",
       "    if ((output.output_type != \"display_data\") || (!output.data.hasOwnProperty(EXEC_MIME_TYPE))) {\n",
       "      return\n",
       "    }\n",
       "\n",
       "    var toinsert = output_area.element.find(\".\" + CLASS_NAME.split(' ')[0]);\n",
       "\n",
       "    if (output.metadata[EXEC_MIME_TYPE][\"id\"] !== undefined) {\n",
       "      toinsert[toinsert.length - 1].firstChild.textContent = output.data[JS_MIME_TYPE];\n",
       "      // store reference to embed id on output_area\n",
       "      output_area._bokeh_element_id = output.metadata[EXEC_MIME_TYPE][\"id\"];\n",
       "    }\n",
       "    if (output.metadata[EXEC_MIME_TYPE][\"server_id\"] !== undefined) {\n",
       "      var bk_div = document.createElement(\"div\");\n",
       "      bk_div.innerHTML = output.data[HTML_MIME_TYPE];\n",
       "      var script_attrs = bk_div.children[0].attributes;\n",
       "      for (var i = 0; i < script_attrs.length; i++) {\n",
       "        toinsert[toinsert.length - 1].firstChild.setAttribute(script_attrs[i].name, script_attrs[i].value);\n",
       "        toinsert[toinsert.length - 1].firstChild.textContent = bk_div.children[0].textContent\n",
       "      }\n",
       "      // store reference to server id on output_area\n",
       "      output_area._bokeh_server_id = output.metadata[EXEC_MIME_TYPE][\"server_id\"];\n",
       "    }\n",
       "  }\n",
       "\n",
       "  function register_renderer(events, OutputArea) {\n",
       "\n",
       "    function append_mime(data, metadata, element) {\n",
       "      // create a DOM node to render to\n",
       "      var toinsert = this.create_output_subarea(\n",
       "        metadata,\n",
       "        CLASS_NAME,\n",
       "        EXEC_MIME_TYPE\n",
       "      );\n",
       "      this.keyboard_manager.register_events(toinsert);\n",
       "      // Render to node\n",
       "      var props = {data: data, metadata: metadata[EXEC_MIME_TYPE]};\n",
       "      render(props, toinsert[toinsert.length - 1]);\n",
       "      element.append(toinsert);\n",
       "      return toinsert\n",
       "    }\n",
       "\n",
       "    /* Handle when an output is cleared or removed */\n",
       "    events.on('clear_output.CodeCell', handleClearOutput);\n",
       "    events.on('delete.Cell', handleClearOutput);\n",
       "\n",
       "    /* Handle when a new output is added */\n",
       "    events.on('output_added.OutputArea', handleAddOutput);\n",
       "\n",
       "    /**\n",
       "     * Register the mime type and append_mime function with output_area\n",
       "     */\n",
       "    OutputArea.prototype.register_mime_type(EXEC_MIME_TYPE, append_mime, {\n",
       "      /* Is output safe? */\n",
       "      safe: true,\n",
       "      /* Index of renderer in `output_area.display_order` */\n",
       "      index: 0\n",
       "    });\n",
       "  }\n",
       "\n",
       "  // register the mime type if in Jupyter Notebook environment and previously unregistered\n",
       "  if (root.Jupyter !== undefined) {\n",
       "    var events = require('base/js/events');\n",
       "    var OutputArea = require('notebook/js/outputarea').OutputArea;\n",
       "\n",
       "    if (OutputArea.prototype.mime_types().indexOf(EXEC_MIME_TYPE) == -1) {\n",
       "      register_renderer(events, OutputArea);\n",
       "    }\n",
       "  }\n",
       "\n",
       "  \n",
       "  if (typeof (root._bokeh_timeout) === \"undefined\" || force === true) {\n",
       "    root._bokeh_timeout = Date.now() + 5000;\n",
       "    root._bokeh_failed_load = false;\n",
       "  }\n",
       "\n",
       "  var NB_LOAD_WARNING = {'data': {'text/html':\n",
       "     \"<div style='background-color: #fdd'>\\n\"+\n",
       "     \"<p>\\n\"+\n",
       "     \"BokehJS does not appear to have successfully loaded. If loading BokehJS from CDN, this \\n\"+\n",
       "     \"may be due to a slow or bad network connection. Possible fixes:\\n\"+\n",
       "     \"</p>\\n\"+\n",
       "     \"<ul>\\n\"+\n",
       "     \"<li>re-rerun `output_notebook()` to attempt to load from CDN again, or</li>\\n\"+\n",
       "     \"<li>use INLINE resources instead, as so:</li>\\n\"+\n",
       "     \"</ul>\\n\"+\n",
       "     \"<code>\\n\"+\n",
       "     \"from bokeh.resources import INLINE\\n\"+\n",
       "     \"output_notebook(resources=INLINE)\\n\"+\n",
       "     \"</code>\\n\"+\n",
       "     \"</div>\"}};\n",
       "\n",
       "  function display_loaded() {\n",
       "    var el = document.getElementById(\"2729\");\n",
       "    if (el != null) {\n",
       "      el.textContent = \"BokehJS is loading...\";\n",
       "    }\n",
       "    if (root.Bokeh !== undefined) {\n",
       "      if (el != null) {\n",
       "        el.textContent = \"BokehJS \" + root.Bokeh.version + \" successfully loaded.\";\n",
       "      }\n",
       "    } else if (Date.now() < root._bokeh_timeout) {\n",
       "      setTimeout(display_loaded, 100)\n",
       "    }\n",
       "  }\n",
       "\n",
       "\n",
       "  function run_callbacks() {\n",
       "    try {\n",
       "      root._bokeh_onload_callbacks.forEach(function(callback) {\n",
       "        if (callback != null)\n",
       "          callback();\n",
       "      });\n",
       "    } finally {\n",
       "      delete root._bokeh_onload_callbacks\n",
       "    }\n",
       "    console.debug(\"Bokeh: all callbacks have finished\");\n",
       "  }\n",
       "\n",
       "  function load_libs(css_urls, js_urls, callback) {\n",
       "    if (css_urls == null) css_urls = [];\n",
       "    if (js_urls == null) js_urls = [];\n",
       "\n",
       "    root._bokeh_onload_callbacks.push(callback);\n",
       "    if (root._bokeh_is_loading > 0) {\n",
       "      console.debug(\"Bokeh: BokehJS is being loaded, scheduling callback at\", now());\n",
       "      return null;\n",
       "    }\n",
       "    if (js_urls == null || js_urls.length === 0) {\n",
       "      run_callbacks();\n",
       "      return null;\n",
       "    }\n",
       "    console.debug(\"Bokeh: BokehJS not loaded, scheduling load and callback at\", now());\n",
       "    root._bokeh_is_loading = css_urls.length + js_urls.length;\n",
       "\n",
       "    function on_load() {\n",
       "      root._bokeh_is_loading--;\n",
       "      if (root._bokeh_is_loading === 0) {\n",
       "        console.debug(\"Bokeh: all BokehJS libraries/stylesheets loaded\");\n",
       "        run_callbacks()\n",
       "      }\n",
       "    }\n",
       "\n",
       "    function on_error() {\n",
       "      console.error(\"failed to load \" + url);\n",
       "    }\n",
       "\n",
       "    for (var i = 0; i < css_urls.length; i++) {\n",
       "      var url = css_urls[i];\n",
       "      const element = document.createElement(\"link\");\n",
       "      element.onload = on_load;\n",
       "      element.onerror = on_error;\n",
       "      element.rel = \"stylesheet\";\n",
       "      element.type = \"text/css\";\n",
       "      element.href = url;\n",
       "      console.debug(\"Bokeh: injecting link tag for BokehJS stylesheet: \", url);\n",
       "      document.body.appendChild(element);\n",
       "    }\n",
       "\n",
       "    const hashes = {\"https://cdn.bokeh.org/bokeh/release/bokeh-2.0.2.min.js\": \"ufR9RFnRs6lniiaFvtJziE0YeidtAgBRH6ux2oUItHw5WTvE1zuk9uzhUU/FJXDp\", \"https://cdn.bokeh.org/bokeh/release/bokeh-widgets-2.0.2.min.js\": \"8QM/PGWBT+IssZuRcDcjzwIh1mkOmJSoNMmyYDZbCfXJg3Ap1lEvdVgFuSAwhb/J\", \"https://cdn.bokeh.org/bokeh/release/bokeh-tables-2.0.2.min.js\": \"Jm8cH3Rg0P6UeZhVY5cLy1WzKajUT9KImCY+76hEqrcJt59/d8GPvFHjCkYgnSIn\", \"https://cdn.bokeh.org/bokeh/release/bokeh-gl-2.0.2.min.js\": \"Ozhzj+SI7ywm74aOI/UajcWz+C0NjsPunEVyVIrxzYkB+jA+2tUw8x5xJCbVtK5I\"};\n",
       "\n",
       "    for (var i = 0; i < js_urls.length; i++) {\n",
       "      var url = js_urls[i];\n",
       "      var element = document.createElement('script');\n",
       "      element.onload = on_load;\n",
       "      element.onerror = on_error;\n",
       "      element.async = false;\n",
       "      element.src = url;\n",
       "      if (url in hashes) {\n",
       "        element.crossOrigin = \"anonymous\";\n",
       "        element.integrity = \"sha384-\" + hashes[url];\n",
       "      }\n",
       "      console.debug(\"Bokeh: injecting script tag for BokehJS library: \", url);\n",
       "      document.head.appendChild(element);\n",
       "    }\n",
       "  };\n",
       "\n",
       "  function inject_raw_css(css) {\n",
       "    const element = document.createElement(\"style\");\n",
       "    element.appendChild(document.createTextNode(css));\n",
       "    document.body.appendChild(element);\n",
       "  }\n",
       "\n",
       "  \n",
       "  var js_urls = [\"https://cdn.bokeh.org/bokeh/release/bokeh-2.0.2.min.js\", \"https://cdn.bokeh.org/bokeh/release/bokeh-widgets-2.0.2.min.js\", \"https://cdn.bokeh.org/bokeh/release/bokeh-tables-2.0.2.min.js\", \"https://cdn.bokeh.org/bokeh/release/bokeh-gl-2.0.2.min.js\"];\n",
       "  var css_urls = [];\n",
       "  \n",
       "\n",
       "  var inline_js = [\n",
       "    function(Bokeh) {\n",
       "      Bokeh.set_log_level(\"info\");\n",
       "    },\n",
       "    function(Bokeh) {\n",
       "    \n",
       "    \n",
       "    }\n",
       "  ];\n",
       "\n",
       "  function run_inline_js() {\n",
       "    \n",
       "    if (root.Bokeh !== undefined || force === true) {\n",
       "      \n",
       "    for (var i = 0; i < inline_js.length; i++) {\n",
       "      inline_js[i].call(root, root.Bokeh);\n",
       "    }\n",
       "    if (force === true) {\n",
       "        display_loaded();\n",
       "      }} else if (Date.now() < root._bokeh_timeout) {\n",
       "      setTimeout(run_inline_js, 100);\n",
       "    } else if (!root._bokeh_failed_load) {\n",
       "      console.log(\"Bokeh: BokehJS failed to load within specified timeout.\");\n",
       "      root._bokeh_failed_load = true;\n",
       "    } else if (force !== true) {\n",
       "      var cell = $(document.getElementById(\"2729\")).parents('.cell').data().cell;\n",
       "      cell.output_area.append_execute_result(NB_LOAD_WARNING)\n",
       "    }\n",
       "\n",
       "  }\n",
       "\n",
       "  if (root._bokeh_is_loading === 0) {\n",
       "    console.debug(\"Bokeh: BokehJS loaded, going straight to plotting\");\n",
       "    run_inline_js();\n",
       "  } else {\n",
       "    load_libs(css_urls, js_urls, function() {\n",
       "      console.debug(\"Bokeh: BokehJS plotting callback run at\", now());\n",
       "      run_inline_js();\n",
       "    });\n",
       "  }\n",
       "}(window));"
      ],
      "application/vnd.bokehjs_load.v0+json": "\n(function(root) {\n  function now() {\n    return new Date();\n  }\n\n  var force = true;\n\n  if (typeof root._bokeh_onload_callbacks === \"undefined\" || force === true) {\n    root._bokeh_onload_callbacks = [];\n    root._bokeh_is_loading = undefined;\n  }\n\n  \n\n  \n  if (typeof (root._bokeh_timeout) === \"undefined\" || force === true) {\n    root._bokeh_timeout = Date.now() + 5000;\n    root._bokeh_failed_load = false;\n  }\n\n  var NB_LOAD_WARNING = {'data': {'text/html':\n     \"<div style='background-color: #fdd'>\\n\"+\n     \"<p>\\n\"+\n     \"BokehJS does not appear to have successfully loaded. If loading BokehJS from CDN, this \\n\"+\n     \"may be due to a slow or bad network connection. Possible fixes:\\n\"+\n     \"</p>\\n\"+\n     \"<ul>\\n\"+\n     \"<li>re-rerun `output_notebook()` to attempt to load from CDN again, or</li>\\n\"+\n     \"<li>use INLINE resources instead, as so:</li>\\n\"+\n     \"</ul>\\n\"+\n     \"<code>\\n\"+\n     \"from bokeh.resources import INLINE\\n\"+\n     \"output_notebook(resources=INLINE)\\n\"+\n     \"</code>\\n\"+\n     \"</div>\"}};\n\n  function display_loaded() {\n    var el = document.getElementById(\"2729\");\n    if (el != null) {\n      el.textContent = \"BokehJS is loading...\";\n    }\n    if (root.Bokeh !== undefined) {\n      if (el != null) {\n        el.textContent = \"BokehJS \" + root.Bokeh.version + \" successfully loaded.\";\n      }\n    } else if (Date.now() < root._bokeh_timeout) {\n      setTimeout(display_loaded, 100)\n    }\n  }\n\n\n  function run_callbacks() {\n    try {\n      root._bokeh_onload_callbacks.forEach(function(callback) {\n        if (callback != null)\n          callback();\n      });\n    } finally {\n      delete root._bokeh_onload_callbacks\n    }\n    console.debug(\"Bokeh: all callbacks have finished\");\n  }\n\n  function load_libs(css_urls, js_urls, callback) {\n    if (css_urls == null) css_urls = [];\n    if (js_urls == null) js_urls = [];\n\n    root._bokeh_onload_callbacks.push(callback);\n    if (root._bokeh_is_loading > 0) {\n      console.debug(\"Bokeh: BokehJS is being loaded, scheduling callback at\", now());\n      return null;\n    }\n    if (js_urls == null || js_urls.length === 0) {\n      run_callbacks();\n      return null;\n    }\n    console.debug(\"Bokeh: BokehJS not loaded, scheduling load and callback at\", now());\n    root._bokeh_is_loading = css_urls.length + js_urls.length;\n\n    function on_load() {\n      root._bokeh_is_loading--;\n      if (root._bokeh_is_loading === 0) {\n        console.debug(\"Bokeh: all BokehJS libraries/stylesheets loaded\");\n        run_callbacks()\n      }\n    }\n\n    function on_error() {\n      console.error(\"failed to load \" + url);\n    }\n\n    for (var i = 0; i < css_urls.length; i++) {\n      var url = css_urls[i];\n      const element = document.createElement(\"link\");\n      element.onload = on_load;\n      element.onerror = on_error;\n      element.rel = \"stylesheet\";\n      element.type = \"text/css\";\n      element.href = url;\n      console.debug(\"Bokeh: injecting link tag for BokehJS stylesheet: \", url);\n      document.body.appendChild(element);\n    }\n\n    const hashes = {\"https://cdn.bokeh.org/bokeh/release/bokeh-2.0.2.min.js\": \"ufR9RFnRs6lniiaFvtJziE0YeidtAgBRH6ux2oUItHw5WTvE1zuk9uzhUU/FJXDp\", \"https://cdn.bokeh.org/bokeh/release/bokeh-widgets-2.0.2.min.js\": \"8QM/PGWBT+IssZuRcDcjzwIh1mkOmJSoNMmyYDZbCfXJg3Ap1lEvdVgFuSAwhb/J\", \"https://cdn.bokeh.org/bokeh/release/bokeh-tables-2.0.2.min.js\": \"Jm8cH3Rg0P6UeZhVY5cLy1WzKajUT9KImCY+76hEqrcJt59/d8GPvFHjCkYgnSIn\", \"https://cdn.bokeh.org/bokeh/release/bokeh-gl-2.0.2.min.js\": \"Ozhzj+SI7ywm74aOI/UajcWz+C0NjsPunEVyVIrxzYkB+jA+2tUw8x5xJCbVtK5I\"};\n\n    for (var i = 0; i < js_urls.length; i++) {\n      var url = js_urls[i];\n      var element = document.createElement('script');\n      element.onload = on_load;\n      element.onerror = on_error;\n      element.async = false;\n      element.src = url;\n      if (url in hashes) {\n        element.crossOrigin = \"anonymous\";\n        element.integrity = \"sha384-\" + hashes[url];\n      }\n      console.debug(\"Bokeh: injecting script tag for BokehJS library: \", url);\n      document.head.appendChild(element);\n    }\n  };\n\n  function inject_raw_css(css) {\n    const element = document.createElement(\"style\");\n    element.appendChild(document.createTextNode(css));\n    document.body.appendChild(element);\n  }\n\n  \n  var js_urls = [\"https://cdn.bokeh.org/bokeh/release/bokeh-2.0.2.min.js\", \"https://cdn.bokeh.org/bokeh/release/bokeh-widgets-2.0.2.min.js\", \"https://cdn.bokeh.org/bokeh/release/bokeh-tables-2.0.2.min.js\", \"https://cdn.bokeh.org/bokeh/release/bokeh-gl-2.0.2.min.js\"];\n  var css_urls = [];\n  \n\n  var inline_js = [\n    function(Bokeh) {\n      Bokeh.set_log_level(\"info\");\n    },\n    function(Bokeh) {\n    \n    \n    }\n  ];\n\n  function run_inline_js() {\n    \n    if (root.Bokeh !== undefined || force === true) {\n      \n    for (var i = 0; i < inline_js.length; i++) {\n      inline_js[i].call(root, root.Bokeh);\n    }\n    if (force === true) {\n        display_loaded();\n      }} else if (Date.now() < root._bokeh_timeout) {\n      setTimeout(run_inline_js, 100);\n    } else if (!root._bokeh_failed_load) {\n      console.log(\"Bokeh: BokehJS failed to load within specified timeout.\");\n      root._bokeh_failed_load = true;\n    } else if (force !== true) {\n      var cell = $(document.getElementById(\"2729\")).parents('.cell').data().cell;\n      cell.output_area.append_execute_result(NB_LOAD_WARNING)\n    }\n\n  }\n\n  if (root._bokeh_is_loading === 0) {\n    console.debug(\"Bokeh: BokehJS loaded, going straight to plotting\");\n    run_inline_js();\n  } else {\n    load_libs(css_urls, js_urls, function() {\n      console.debug(\"Bokeh: BokehJS plotting callback run at\", now());\n      run_inline_js();\n    });\n  }\n}(window));"
     },
     "metadata": {},
     "output_type": "display_data"
    },
    {
     "name": "stderr",
     "output_type": "stream",
     "text": [
      "/Users/megharana/Documents/STDDrugsEffectiveness/drugEffectiveness/lib/python3.7/site-packages/ipykernel_launcher.py:12: DeprecationWarning: Call to deprecated `__getitem__` (Method will be removed in 4.0.0, use self.wv.__getitem__() instead).\n",
      "  if sys.path[0] == '':\n"
     ]
    },
    {
     "name": "stdout",
     "output_type": "stream",
     "text": [
      "[t-SNE] Computing 91 nearest neighbors...\n",
      "[t-SNE] Indexed 785 samples in 0.025s...\n",
      "[t-SNE] Computed neighbors for 785 samples in 0.329s...\n",
      "[t-SNE] Computed conditional probabilities for sample 785 / 785\n",
      "[t-SNE] Mean sigma: 0.031057\n",
      "[t-SNE] KL divergence after 250 iterations with early exaggeration: 51.892323\n",
      "[t-SNE] KL divergence after 1000 iterations: 0.373827\n"
     ]
    },
    {
     "data": {
      "text/html": [
       "\n",
       "\n",
       "\n",
       "\n",
       "\n",
       "\n",
       "  <div class=\"bk-root\" id=\"39b4f27b-04c9-42d9-bd83-bea5a53edb4e\" data-root-id=\"2730\"></div>\n"
      ]
     },
     "metadata": {},
     "output_type": "display_data"
    },
    {
     "data": {
      "application/javascript": [
       "(function(root) {\n",
       "  function embed_document(root) {\n",
       "    \n",
       "  var docs_json = {\"2edb5729-d7c2-4f29-9486-9e3170fc21d9\":{\"roots\":{\"references\":[{\"attributes\":{\"min_border\":1,\"plot_width\":700,\"renderers\":[{\"id\":\"2757\"}],\"title\":{\"id\":\"2731\"},\"toolbar\":{\"id\":\"2747\"},\"x_range\":{\"id\":\"2733\"},\"x_scale\":{\"id\":\"2737\"},\"y_range\":{\"id\":\"2735\"},\"y_scale\":{\"id\":\"2739\"}},\"id\":\"2730\",\"subtype\":\"Figure\",\"type\":\"Plot\"},{\"attributes\":{},\"id\":\"2761\",\"type\":\"Selection\"},{\"attributes\":{},\"id\":\"2737\",\"type\":\"LinearScale\"},{\"attributes\":{\"fill_color\":{\"value\":\"#1f77b4\"},\"line_color\":{\"value\":\"#1f77b4\"},\"x\":{\"field\":\"x\"},\"y\":{\"field\":\"y\"}},\"id\":\"2755\",\"type\":\"Scatter\"},{\"attributes\":{},\"id\":\"2739\",\"type\":\"LinearScale\"},{\"attributes\":{\"data\":{\"index\":[0,1,2,3,4,5,6,7,8,9,10,11,12,13,14,15,16,17,18,19,20,21,22,23,24,25,26,27,28,29,30,31,32,33,34,35,36,37,38,39,40,41,42,43,44,45,46,47,48,49,50,51,52,53,54,55,56,57,58,59,60,61,62,63,64,65,66,67,68,69,70,71,72,73,74,75,76,77,78,79,80,81,82,83,84,85,86,87,88,89,90,91,92,93,94,95,96,97,98,99,100,101,102,103,104,105,106,107,108,109,110,111,112,113,114,115,116,117,118,119,120,121,122,123,124,125,126,127,128,129,130,131,132,133,134,135,136,137,138,139,140,141,142,143,144,145,146,147,148,149,150,151,152,153,154,155,156,157,158,159,160,161,162,163,164,165,166,167,168,169,170,171,172,173,174,175,176,177,178,179,180,181,182,183,184,185,186,187,188,189,190,191,192,193,194,195,196,197,198,199,200,201,202,203,204,205,206,207,208,209,210,211,212,213,214,215,216,217,218,219,220,221,222,223,224,225,226,227,228,229,230,231,232,233,234,235,236,237,238,239,240,241,242,243,244,245,246,247,248,249,250,251,252,253,254,255,256,257,258,259,260,261,262,263,264,265,266,267,268,269,270,271,272,273,274,275,276,277,278,279,280,281,282,283,284,285,286,287,288,289,290,291,292,293,294,295,296,297,298,299,300,301,302,303,304,305,306,307,308,309,310,311,312,313,314,315,316,317,318,319,320,321,322,323,324,325,326,327,328,329,330,331,332,333,334,335,336,337,338,339,340,341,342,343,344,345,346,347,348,349,350,351,352,353,354,355,356,357,358,359,360,361,362,363,364,365,366,367,368,369,370,371,372,373,374,375,376,377,378,379,380,381,382,383,384,385,386,387,388,389,390,391,392,393,394,395,396,397,398,399,400,401,402,403,404,405,406,407,408,409,410,411,412,413,414,415,416,417,418,419,420,421,422,423,424,425,426,427,428,429,430,431,432,433,434,435,436,437,438,439,440,441,442,443,444,445,446,447,448,449,450,451,452,453,454,455,456,457,458,459,460,461,462,463,464,465,466,467,468,469,470,471,472,473,474,475,476,477,478,479,480,481,482,483,484,485,486,487,488,489,490,491,492,493,494,495,496,497,498,499,500,501,502,503,504,505,506,507,508,509,510,511,512,513,514,515,516,517,518,519,520,521,522,523,524,525,526,527,528,529,530,531,532,533,534,535,536,537,538,539,540,541,542,543,544,545,546,547,548,549,550,551,552,553,554,555,556,557,558,559,560,561,562,563,564,565,566,567,568,569,570,571,572,573,574,575,576,577,578,579,580,581,582,583,584,585,586,587,588,589,590,591,592,593,594,595,596,597,598,599,600,601,602,603,604,605,606,607,608,609,610,611,612,613,614,615,616,617,618,619,620,621,622,623,624,625,626,627,628,629,630,631,632,633,634,635,636,637,638,639,640,641,642,643,644,645,646,647,648,649,650,651,652,653,654,655,656,657,658,659,660,661,662,663,664,665,666,667,668,669,670,671,672,673,674,675,676,677,678,679,680,681,682,683,684,685,686,687,688,689,690,691,692,693,694,695,696,697,698,699,700,701,702,703,704,705,706,707,708,709,710,711,712,713,714,715,716,717,718,719,720,721,722,723,724,725,726,727,728,729,730,731,732,733,734,735,736,737,738,739,740,741,742,743,744,745,746,747,748,749,750,751,752,753,754,755,756,757,758,759,760,761,762,763,764,765,766,767,768,769,770,771,772,773,774,775,776,777,778,779,780,781,782,783,784],\"words\":[\"happy\",\"mothersday\",\"amazing\",\"mothers\",\"there\",\"know\",\"hard\",\"not\",\"able\",\"see\",\"today\",\"us\",\"protect\",\"vulnerable\",\"members\",\"day\",\"mum\",\"im\",\"sorry\",\"cant\",\"bring\",\"flowers\",\"id\",\"walk\",\"to\",\"ill\",\"soon\",\"be\",\"love\",\"lots\",\"xxx\",\"need\",\"photos\",\"days\",\"work\",\"quiet\",\"time\",\"dog\",\"garden\",\"gin\",\"watch\",\"favourite\",\"place\",\"visit\",\"beautiful\",\"mummy\",\"ultimateloveng\",\"3\",\"ladies\",\"made\",\"late\",\"grandmother\",\"great\",\"missed\",\"never\",\"mums\",\"sent\",\"xxxx\",\"world\",\"happymothersday\",\"2020\",\"wonderful\",\"show\",\"mother\",\"two\",\"rosie\",\"grandmothers\",\"sisters\",\"women\",\"lives\",\"care\",\"around\",\"health\",\"wishes\",\"motheringsunday\",\"motherhood\",\"motherslove\",\"nigeria\",\"mothersdayshoutout\",\"mama\",\"word\",\"mom\",\"daily\",\"life\",\"full\",\"video\",\"link\",\"enjoy\",\"please\",\"share\",\"like\",\"it\",\"get\",\"new\",\"check\",\"art\",\"coronavirus\",\"covid\",\"19\",\"isolation\",\"everyone\",\"in\",\"round\",\"game\",\"live\",\"twitter\",\"maybe\",\"one\",\"got\",\"cake\",\"least\",\"lol\",\"keep\",\"awesome\",\"probably\",\"normal\",\"even\",\"hope\",\"all\",\"ive\",\"wife\",\"family\",\"arent\",\"house\",\"wait\",\"next\",\"week\",\"wishing\",\"mamas\",\"relaxing\",\"challenging\",\"times\",\"celebrating\",\"woman\",\"whole\",\"entire\",\"big\",\"hugs\",\"might\",\"hands\",\"always\",\"person\",\"every\",\"second\",\"queen\",\"everything\",\"strong\",\"heaven\",\"friends\",\"babies\",\"aunties\",\"forever\",\"fantastic\",\"team\",\"looking\",\"staff\",\"hospital\",\"working\",\"brilliant\",\"perfect\",\"support\",\"my\",\"friend\",\"thank\",\"bless\",\"and\",\"celebrate\",\"unconditional\",\"done\",\"making\",\"well\",\"become\",\"birthday\",\"little\",\"cute\",\"bear\",\"wish\",\"face\",\"u\",\"dad\",\"much\",\"also\",\"gorgeous\",\"safe\",\"incredible\",\"its\",\"now\",\"child\",\"celebrated\",\"given\",\"birth\",\"could\",\"left\",\"that\",\"course\",\"sure\",\"wouldnt\",\"right\",\"whos\",\"children\",\"son\",\"hug\",\"tell\",\"miss\",\"huge\",\"too\",\"aka\",\"would\",\"truly\",\"rock\",\"thanks\",\"here\",\"special\",\"may\",\"seen\",\"loved\",\"ones\",\"you\",\"stay\",\"tweet\",\"4\",\"daughters\",\"sadly\",\"lost\",\"last\",\"year\",\"i\",\"sad\",\"heres\",\"loving\",\"strange\",\"especially\",\"20\",\"guys\",\"old\",\"n\",\"law\",\"socialdistancing\",\"dear\",\"despite\",\"difficult\",\"other\",\"busy\",\"free\",\"saw\",\"sunshine\",\"long\",\"many\",\"9\",\"although\",\"planned\",\"lovely\",\"xx\",\"thats\",\"start\",\"heart\",\"happiness\",\"passed\",\"forget\",\"gone\",\"sunday\",\"dont\",\"forgot\",\"call\",\"skype\",\"mam\",\"home\",\"social\",\"distance\",\"however\",\"spend\",\"look\",\"back\",\"though\",\"mammys\",\"thankyou\",\"memories\",\"still\",\"mind\",\"oh\",\"message\",\"shout\",\"supporting\",\"nhs\",\"stayhomesavelives\",\"lucky\",\"proud\",\"daughter\",\"me\",\"thankful\",\"everyday\",\"best\",\"nanny\",\"god\",\"people\",\"remember\",\"mammy\",\"sharing\",\"coffee\",\"whilst\",\"kids\",\"better\",\"treat\",\"blessed\",\"mothering\",\"sending\",\"thoughts\",\"good\",\"afternoon\",\"editor\",\"princess\",\"catherine\",\"precious\",\"mrs\",\"royal\",\"enedina\",\"silva\",\"tatafonaijamothersday\",\"mummies\",\"super\",\"no\",\"smiling\",\"together\",\"come\",\"head\",\"let\",\"fun\",\"youve\",\"x\",\"baby\",\"mamma\",\"put\",\"words\",\"moms\",\"ever\",\"momma\",\"youre\",\"anyone\",\"appreciation\",\"find\",\"way\",\"spread\",\"whether\",\"mammies\",\"tough\",\"make\",\"job\",\"leave\",\"yet\",\"smile\",\"hearts\",\"longer\",\"london\",\"united\",\"kingdom\",\"thismorning\",\"say\",\"a\",\"5\",\"mummys\",\"later\",\"posted\",\"photo\",\"post\",\"are\",\"obviously\",\"giving\",\"distancing\",\"2\",\"enough\",\"rest\",\"worry\",\"things\",\"tatus\",\"8\",\"something\",\"night\",\"tears\",\"missing\",\"role\",\"couldnt\",\"asked\",\"with\",\"appreciate\",\"blessing\",\"ask\",\"for\",\"theres\",\"sacrifices\",\"trans\",\"biological\",\"fuck\",\"s1241676268342521857\",\"going\",\"evening\",\"dance\",\"motherdaughter\",\"showing\",\"keeping\",\"weeks\",\"ago\",\"thing\",\"gets\",\"nothing\",\"comes\",\"easy\",\"definitely\",\"needs\",\"loads\",\"sacrifice\",\"glad\",\"give\",\"again\",\"staysafe\",\"kindness\",\"lets\",\"familytime\",\"were\",\"thought\",\"send\",\"virtual\",\"celebration\",\"including\",\"want\",\"out\",\"managed\",\"first\",\"facetime\",\"taking\",\"nice\",\"mams\",\"current\",\"window\",\"pray\",\"ur\",\"really\",\"talk\",\"across\",\"respect\",\"gratitude\",\"someone\",\"doesnt\",\"buy\",\"living\",\"others\",\"sister\",\"ma\",\"years\",\"since\",\"her\",\"without\",\"didnt\",\"anything\",\"lot\",\"march\",\"fabulous\",\"grandma\",\"staying\",\"everywhere\",\"open\",\"the\",\"strength\",\"soul\",\"inspiration\",\"picture\",\"took\",\"yesterday\",\"glue\",\"moon\",\"found\",\"shall\",\"light\",\"different\",\"change\",\"knows\",\"grateful\",\"uk\",\"men\",\"belated\",\"grannies\",\"dearly\",\"dedication\",\"do\",\"granny\",\"positive\",\"corona\",\"selfisolation\",\"quarantine\",\"lockdown\",\"help\",\"families\",\"continue\",\"present\",\"away\",\"stayathome\",\"12\",\"started\",\"1\",\"cancer\",\"queens\",\"came\",\"tomorrow\",\"cheers\",\"means\",\"mean\",\"beyond\",\"take\",\"granted\",\"massive\",\"joy\",\"news\",\"hopefully\",\"another\",\"jesus\",\"name\",\"due\",\"important\",\"country\",\"them\",\"run\",\"events\",\"peace\",\"greatest\",\"delivered\",\"door\",\"1st\",\"girl\",\"else\",\"watching\",\"phone\",\"22\",\"thinking\",\"feeling\",\"bit\",\"caring\",\"single\",\"10\",\"food\",\"gonna\",\"boy\",\"bad\",\"hold\",\"female\",\"self\",\"isolating\",\"biggest\",\"over\",\"coming\",\"theyre\",\"grandmas\",\"stayhome\",\"mumma\",\"kate\",\"makes\",\"unusual\",\"moment\",\"needed\",\"morning\",\"posts\",\"said\",\"earth\",\"brought\",\"end\",\"wanted\",\"raised\",\"taught\",\"helped\",\"bed\",\"side\",\"wished\",\"unique\",\"circumstances\",\"can\",\"selfisolating\",\"virus\",\"amen\",\"cards\",\"says\",\"reason\",\"lady\",\"weird\",\"fathers\",\"feel\",\"sun\",\"book\",\"up\",\"parents\",\"think\",\"true\",\"absolute\",\"figures\",\"spoilt\",\"go\",\"kind\",\"sweet\",\"kisses\",\"pretty\",\"sometimes\",\"heavenly\",\"seeing\",\"throwback\",\"read\",\"physically\",\"supportive\",\"extra\",\"matter\",\"power\",\"situation\",\"saying\",\"status\",\"sunny\",\"whatever\",\"community\",\"apart\",\"isnt\",\"boys\",\"healthy\",\"have\",\"went\",\"httpwww\",\"called\",\"laugh\",\"ok\",\"card\",\"text\",\"actually\",\"shes\",\"wont\",\"wherever\",\"mothersdayuk\",\"africa\",\"part\",\"6\",\"mine\",\"human\",\"havent\",\"outside\",\"far\",\"close\",\"deserve\",\"celebrations\",\"future\",\"pic\",\"sons\",\"real\",\"weekend\",\"girls\",\"born\",\"15\",\"dinner\",\"must\",\"half\",\"etc\",\"getting\",\"ya\",\"via\",\"near\",\"worth\",\"sundaythoughts\",\"fruit\",\"repost\",\"helping\",\"but\",\"gave\",\"lunch\",\"past\",\"taken\",\"funny\",\"possible\",\"business\",\"keeps\",\"foster\",\"carers\",\"young\",\"appreciated\",\"singing\",\"absolutely\",\"shit\",\"spending\",\"stories\",\"so\",\"try\",\"seems\",\"use\",\"summer\",\"club\",\"used\",\"music\",\"is\",\"relax\",\"tag\",\"comments\",\"loves\",\"forward\",\"nan\",\"7\",\"hi\",\"play\",\"media\",\"instead\",\"legend\",\"nana\",\"tonight\",\"pics\",\"grow\",\"online\",\"glass\",\"duchess\",\"frontline\",\"wee\",\"admire\",\"takeaway\",\"socially\",\"song\",\"four\",\"blessings\",\"facebook\",\"stop\",\"whats\",\"this\",\"step\",\"angel\",\"join\",\"tea\",\"roast\",\"enjoying\",\"cherish\",\"uncertain\",\"playing\",\"crazy\",\"received\",\"fur\",\"loveyou\",\"months\",\"hes\",\"breakfast\",\"risk\",\"quite\",\"workers\",\"top\",\"story\",\"tus\",\"spoil\",\"spoiled\",\"laughter\",\"illustration\",\"rotten\",\"football\",\"parent\",\"dads\",\"raising\",\"services\",\"more\",\"express\",\"stuck\",\"fresh\",\"wine\",\"hair\",\"adoptive\",\"chat\",\"three\",\"rugby\",\"putting\",\"bestmum\",\"man\",\"group\",\"using\",\"yes\",\"whose\",\"spring\",\"customers\",\"weve\",\"beauty\",\"ireland\",\"selfless\",\"presents\",\"realise\",\"spent\",\"instagram\",\"told\",\"labour\",\"calm\",\"yours\",\"inside\",\"she\"],\"x\":{\"__ndarray__\":\"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\",\"dtype\":\"float32\",\"shape\":[785]},\"y\":{\"__ndarray__\":\"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\",\"dtype\":\"float32\",\"shape\":[785]}},\"selected\":{\"id\":\"2761\"},\"selection_policy\":{\"id\":\"2760\"}},\"id\":\"2753\",\"type\":\"ColumnDataSource\"},{\"attributes\":{\"active_drag\":\"auto\",\"active_inspect\":\"auto\",\"active_multi\":null,\"active_scroll\":\"auto\",\"active_tap\":\"auto\",\"tools\":[{\"id\":\"2741\"},{\"id\":\"2742\"},{\"id\":\"2743\"},{\"id\":\"2744\"},{\"id\":\"2745\"}]},\"id\":\"2747\",\"type\":\"Toolbar\"},{\"attributes\":{\"bottom_units\":\"screen\",\"fill_alpha\":0.5,\"fill_color\":\"lightgrey\",\"left_units\":\"screen\",\"level\":\"overlay\",\"line_alpha\":1.0,\"line_color\":\"black\",\"line_dash\":[4,4],\"line_width\":2,\"render_mode\":\"css\",\"right_units\":\"screen\",\"top_units\":\"screen\"},\"id\":\"2746\",\"type\":\"BoxAnnotation\"},{\"attributes\":{},\"id\":\"2741\",\"type\":\"PanTool\"},{\"attributes\":{\"text\":\"A map of 10000 word vectors\"},\"id\":\"2731\",\"type\":\"Title\"},{\"attributes\":{\"fill_alpha\":{\"value\":0.1},\"fill_color\":{\"value\":\"#1f77b4\"},\"line_alpha\":{\"value\":0.1},\"line_color\":{\"value\":\"#1f77b4\"},\"x\":{\"field\":\"x\"},\"y\":{\"field\":\"y\"}},\"id\":\"2756\",\"type\":\"Scatter\"},{\"attributes\":{},\"id\":\"2742\",\"type\":\"WheelZoomTool\"},{\"attributes\":{},\"id\":\"2760\",\"type\":\"UnionRenderers\"},{\"attributes\":{},\"id\":\"2733\",\"type\":\"DataRange1d\"},{\"attributes\":{\"overlay\":{\"id\":\"2746\"}},\"id\":\"2743\",\"type\":\"BoxZoomTool\"},{\"attributes\":{},\"id\":\"2744\",\"type\":\"ResetTool\"},{\"attributes\":{},\"id\":\"2735\",\"type\":\"DataRange1d\"},{\"attributes\":{\"source\":{\"id\":\"2753\"}},\"id\":\"2758\",\"type\":\"CDSView\"},{\"attributes\":{\"callback\":null,\"tooltips\":[[\"word\",\"@words\"]]},\"id\":\"2745\",\"type\":\"HoverTool\"},{\"attributes\":{\"data_source\":{\"id\":\"2753\"},\"glyph\":{\"id\":\"2755\"},\"hover_glyph\":null,\"muted_glyph\":null,\"nonselection_glyph\":{\"id\":\"2756\"},\"selection_glyph\":null,\"view\":{\"id\":\"2758\"}},\"id\":\"2757\",\"type\":\"GlyphRenderer\"}],\"root_ids\":[\"2730\"]},\"title\":\"Bokeh Application\",\"version\":\"2.0.2\"}};\n",
       "  var render_items = [{\"docid\":\"2edb5729-d7c2-4f29-9486-9e3170fc21d9\",\"root_ids\":[\"2730\"],\"roots\":{\"2730\":\"39b4f27b-04c9-42d9-bd83-bea5a53edb4e\"}}];\n",
       "  root.Bokeh.embed.embed_items_notebook(docs_json, render_items);\n",
       "\n",
       "  }\n",
       "  if (root.Bokeh !== undefined) {\n",
       "    embed_document(root);\n",
       "  } else {\n",
       "    var attempts = 0;\n",
       "    var timer = setInterval(function(root) {\n",
       "      if (root.Bokeh !== undefined) {\n",
       "        clearInterval(timer);\n",
       "        embed_document(root);\n",
       "      } else {\n",
       "        attempts++;\n",
       "        if (attempts > 100) {\n",
       "          clearInterval(timer);\n",
       "          console.log(\"Bokeh: ERROR: Unable to run BokehJS code because BokehJS library is missing\");\n",
       "        }\n",
       "      }\n",
       "    }, 10, root)\n",
       "  }\n",
       "})(window);"
      ],
      "application/vnd.bokehjs_exec.v0+json": ""
     },
     "metadata": {
      "application/vnd.bokehjs_exec.v0+json": {
       "id": "2730"
      }
     },
     "output_type": "display_data"
    }
   ],
   "source": [
    "import bokeh.plotting as bp\n",
    "from bokeh.models import HoverTool, BoxSelectTool\n",
    "from bokeh.plotting import figure, show, output_notebook\n",
    "\n",
    "# defining the chart\n",
    "output_notebook()\n",
    "plot_tfidf = bp.figure(plot_width=700, plot_height=600, title=\"A map of 10000 word vectors\",\n",
    "    tools=\"pan,wheel_zoom,box_zoom,reset,hover\",\n",
    "    x_axis_type=None, y_axis_type=None, min_border=1)\n",
    "\n",
    "# getting a list of word vectors. limit to 10000. each is of 200 dimensions\n",
    "word_vectors = [tweet_w2v[w] for w in list(tweet_w2v.wv.vocab.keys())[:5000]]\n",
    "\n",
    "# dimensionality reduction. converting the vectors to 2d vectors\n",
    "from sklearn.manifold import TSNE\n",
    "tsne_model = TSNE(n_components=2, verbose=1, random_state=0)\n",
    "tsne_w2v = tsne_model.fit_transform(word_vectors)\n",
    "\n",
    "# putting everything in a dataframe\n",
    "tsne_df = pd.DataFrame(tsne_w2v, columns=['x', 'y'])\n",
    "tsne_df['words'] = list(tweet_w2v.wv.vocab.keys())[:5000]\n",
    "\n",
    "# plotting. the corresponding word appears when you hover on the data point.\n",
    "plot_tfidf.scatter(x='x', y='y', source=tsne_df)\n",
    "hover = plot_tfidf.select(dict(type=HoverTool))\n",
    "hover.tooltips={\"word\": \"@words\"}\n",
    "show(plot_tfidf)"
   ]
  },
  {
   "cell_type": "code",
   "execution_count": 310,
   "metadata": {},
   "outputs": [
    {
     "name": "stdout",
     "output_type": "stream",
     "text": [
      "vocab size : 763\n"
     ]
    }
   ],
   "source": [
    "from sklearn.feature_extraction.text import TfidfVectorizer\n",
    "vectorizer = TfidfVectorizer(analyzer=lambda x: x, min_df=10)\n",
    "matrix = vectorizer.fit_transform([x.words for x in x_train])\n",
    "tfidf = dict(zip(vectorizer.get_feature_names(), vectorizer.idf_))\n",
    "print('vocab size :', len(tfidf))"
   ]
  },
  {
   "cell_type": "code",
   "execution_count": 311,
   "metadata": {},
   "outputs": [],
   "source": [
    "def buildWordVector(tokens, size):\n",
    "    vec = np.zeros(size).reshape((1, size))\n",
    "    count = 0.\n",
    "    for word in tokens:\n",
    "        try:\n",
    "            vec += tweet_w2v[word].reshape((1, size)) * tfidf[word]\n",
    "            count += 1.\n",
    "        except KeyError: # handling the case where the token is not\n",
    "                         # in the corpus. useful for testing.\n",
    "            continue\n",
    "    if count != 0:\n",
    "        vec /= count\n",
    "    return vec"
   ]
  },
  {
   "cell_type": "code",
   "execution_count": 312,
   "metadata": {},
   "outputs": [
    {
     "name": "stderr",
     "output_type": "stream",
     "text": [
      "0it [00:00, ?it/s]/Users/megharana/Documents/STDDrugsEffectiveness/drugEffectiveness/lib/python3.7/site-packages/ipykernel_launcher.py:6: DeprecationWarning: Call to deprecated `__getitem__` (Method will be removed in 4.0.0, use self.wv.__getitem__() instead).\n",
      "  \n",
      "3235it [00:01, 2948.47it/s]\n"
     ]
    }
   ],
   "source": [
    "from sklearn.preprocessing import scale\n",
    "train_vecs_w2v = np.concatenate([buildWordVector(z, n_dim) for z in tqdm(map(lambda x: x.words, x_train))])\n",
    "train_vecs_w2v = scale(train_vecs_w2v)\n",
    "\n",
    "# val_vecs_w2v = np.concatenate([buildWordVector(z, n_dim) for z in tqdm(map(lambda x: x.words, x_val))])\n",
    "# val_vecs_w2v = scale(val_vecs_w2v)"
   ]
  },
  {
   "cell_type": "code",
   "execution_count": 313,
   "metadata": {},
   "outputs": [
    {
     "data": {
      "text/plain": [
       "array([ 0,  0, -1, ...,  0,  0, -1])"
      ]
     },
     "execution_count": 313,
     "metadata": {},
     "output_type": "execute_result"
    }
   ],
   "source": [
    "y_train"
   ]
  },
  {
   "cell_type": "code",
   "execution_count": 314,
   "metadata": {},
   "outputs": [
    {
     "name": "stdout",
     "output_type": "stream",
     "text": [
      "Model: \"sequential_17\"\n",
      "_________________________________________________________________\n",
      "Layer (type)                 Output Shape              Param #   \n",
      "=================================================================\n",
      "dense_27 (Dense)             (None, 32)                16032     \n",
      "_________________________________________________________________\n",
      "dense_28 (Dense)             (None, 3)                 99        \n",
      "=================================================================\n",
      "Total params: 16,131\n",
      "Trainable params: 16,131\n",
      "Non-trainable params: 0\n",
      "_________________________________________________________________\n"
     ]
    }
   ],
   "source": [
    "import tensorflow as tf\n",
    "from tensorflow.keras.models import Sequential\n",
    "from tensorflow.keras.layers import Dense, Dropout, BatchNormalization, Activation, Embedding, LSTM, SpatialDropout1D\n",
    "from tensorflow.keras.optimizers import Adam\n",
    "from tensorflow.keras.optimizers.schedules import InverseTimeDecay\n",
    "from tensorflow.keras.callbacks import EarlyStopping \n",
    "import tensorflow_docs as tfdocs\n",
    "from keras.utils import to_categorical\n",
    "\n",
    "max_fatures = 2000\n",
    "embed_dim = 128\n",
    "lstm_out = 196\n",
    "\n",
    "model = Sequential()\n",
    "model.add(Dense(32, activation='relu', input_dim=n_dim))\n",
    "model.add(Dense(3, activation='softmax'))\n",
    "\n",
    "# model.add(Embedding(max_fatures, embed_dim))\n",
    "# model.add(SpatialDropout1D(0.4))\n",
    "# model.add(LSTM(lstm_out, dropout=0.2, recurrent_dropout=0.2))\n",
    "# model.add(Dense(3,activation='softmax'))\n",
    "model.compile( optimizer='adam',loss='categorical_crossentropy',metrics=['accuracy'])\n",
    "\n",
    "\n",
    "model.summary()"
   ]
  },
  {
   "cell_type": "code",
   "execution_count": 315,
   "metadata": {
    "scrolled": true
   },
   "outputs": [
    {
     "name": "stdout",
     "output_type": "stream",
     "text": [
      "Train on 3235 samples\n",
      "Epoch 1/9\n",
      "\n",
      "Epoch: 0, accuracy:0.4739,  loss:1.1126,  \n",
      ".3235/3235 - 0s - loss: 1.1126 - accuracy: 0.4739\n",
      "Epoch 2/9\n",
      ".3235/3235 - 0s - loss: 1.1170 - accuracy: 0.4992\n",
      "Epoch 00002: early stopping\n"
     ]
    },
    {
     "data": {
      "text/plain": [
       "<tensorflow.python.keras.callbacks.History at 0x140363110>"
      ]
     },
     "execution_count": 315,
     "metadata": {},
     "output_type": "execute_result"
    }
   ],
   "source": [
    "import tensorflow_docs.modeling\n",
    "early_stop = EarlyStopping(monitor='loss', mode='min', verbose=1)\n",
    "model.fit(train_vecs_w2v, to_categorical(y_train, 3), epochs=9, batch_size=32, verbose=2,\n",
    "          callbacks=[early_stop, tfdocs.modeling.EpochDots()])\n",
    "\n",
    "# validation_data=(val_vecs_w2v, to_categorical(y_val, 3))"
   ]
  },
  {
   "cell_type": "code",
   "execution_count": 316,
   "metadata": {},
   "outputs": [],
   "source": [
    "# score = model.evaluate(val_vecs_w2v, to_categorical(y_val, 3), batch_size=128, verbose=2)"
   ]
  },
  {
   "cell_type": "code",
   "execution_count": 317,
   "metadata": {},
   "outputs": [],
   "source": [
    "test_data = postprocess(test_df)"
   ]
  },
  {
   "cell_type": "code",
   "execution_count": 318,
   "metadata": {},
   "outputs": [],
   "source": [
    "x_test_to_labelize = np.array(test_data['tokens'])"
   ]
  },
  {
   "cell_type": "code",
   "execution_count": 319,
   "metadata": {},
   "outputs": [
    {
     "name": "stderr",
     "output_type": "stream",
     "text": [
      "0it [00:00, ?it/s]/Users/megharana/Documents/STDDrugsEffectiveness/drugEffectiveness/lib/python3.7/site-packages/ipykernel_launcher.py:10: DeprecationWarning: Call to deprecated `LabeledSentence` (Class will be removed in 4.0.0, use TaggedDocument instead).\n",
      "  # Remove the CWD from sys.path while we load stuff.\n",
      "1387it [00:00, 123487.57it/s]\n"
     ]
    }
   ],
   "source": [
    "x_test = labelizeTweets(x_test_to_labelize, 'TEST')"
   ]
  },
  {
   "cell_type": "code",
   "execution_count": 320,
   "metadata": {},
   "outputs": [
    {
     "data": {
      "text/plain": [
       "LabeledSentence(words=['3', 'yeah', 'cooked', 'potatoes', '3', 'years', 'old', 'mean', 'threw', 'bag', 'spuds', 'toilet', 'happy', 'mothers', 'day', 'made', 'breakfast', '66', 'time', 'thought', 'cool', 'drawing', 'naked', 'lady', 'dachshund', 'overhead', 'projector', 'psychology', 'class', '8'], tags=['TEST_0'])"
      ]
     },
     "execution_count": 320,
     "metadata": {},
     "output_type": "execute_result"
    }
   ],
   "source": [
    "x_test[0]"
   ]
  },
  {
   "cell_type": "code",
   "execution_count": 321,
   "metadata": {},
   "outputs": [
    {
     "name": "stderr",
     "output_type": "stream",
     "text": [
      "100%|██████████| 1387/1387 [00:00<00:00, 532299.35it/s]\n",
      "100%|██████████| 1387/1387 [00:00<00:00, 1042749.53it/s]\n"
     ]
    },
    {
     "data": {
      "text/plain": [
       "(103756, 275490)"
      ]
     },
     "execution_count": 321,
     "metadata": {},
     "output_type": "execute_result"
    }
   ],
   "source": [
    "tweet_w2v_test = Word2Vec(size=n_dim, min_count=10)\n",
    "tweet_w2v_test.build_vocab([x.words for x in tqdm(x_test)])\n",
    "tweet_w2v_test.train([x.words for x in tqdm(x_test)], total_examples=len(x_test), epochs=10)"
   ]
  },
  {
   "cell_type": "code",
   "execution_count": 322,
   "metadata": {},
   "outputs": [
    {
     "name": "stderr",
     "output_type": "stream",
     "text": [
      "0it [00:00, ?it/s]/Users/megharana/Documents/STDDrugsEffectiveness/drugEffectiveness/lib/python3.7/site-packages/ipykernel_launcher.py:6: DeprecationWarning: Call to deprecated `__getitem__` (Method will be removed in 4.0.0, use self.wv.__getitem__() instead).\n",
      "  \n",
      "1387it [00:00, 3084.22it/s]\n"
     ]
    }
   ],
   "source": [
    "test_vecs_w2v = np.concatenate([buildWordVector(z, n_dim) for z in tqdm(map(lambda x: x.words, x_test))])\n",
    "test_vecs_w2v = scale(test_vecs_w2v)"
   ]
  },
  {
   "cell_type": "code",
   "execution_count": 323,
   "metadata": {},
   "outputs": [],
   "source": [
    "test_predictions = model.predict(test_vecs_w2v)"
   ]
  },
  {
   "cell_type": "code",
   "execution_count": 324,
   "metadata": {},
   "outputs": [
    {
     "data": {
      "text/plain": [
       "array([0.5213822 , 0.26053876, 0.21807897], dtype=float32)"
      ]
     },
     "execution_count": 324,
     "metadata": {},
     "output_type": "execute_result"
    }
   ],
   "source": [
    "test_predictions[1]"
   ]
  },
  {
   "cell_type": "code",
   "execution_count": 325,
   "metadata": {},
   "outputs": [
    {
     "name": "stdout",
     "output_type": "stream",
     "text": [
      "[0, 0, 0, 0, 1, 1, 0, 0, 0, 0]\n"
     ]
    }
   ],
   "source": [
    "label = [np.argmax(i) for i in test_predictions]\n",
    "class_label = [x for x in label]\n",
    "print(class_label[:10])\n",
    "submission = pd.DataFrame({ 'id': test_df.id, 'sentiment_class': class_label })\n",
    "def replace_two(n):\n",
    "    if n == 2:\n",
    "        return -1\n",
    "    else:\n",
    "        return n\n",
    "submission['sentiment_class'] = submission['sentiment_class'].apply(replace_two)\n",
    "submission.to_csv('../test1326.csv', index=False)"
   ]
  },
  {
   "cell_type": "code",
   "execution_count": null,
   "metadata": {},
   "outputs": [],
   "source": []
  }
 ],
 "metadata": {
  "kernelspec": {
   "display_name": "Python 3",
   "language": "python",
   "name": "python3"
  },
  "language_info": {
   "codemirror_mode": {
    "name": "ipython",
    "version": 3
   },
   "file_extension": ".py",
   "mimetype": "text/x-python",
   "name": "python",
   "nbconvert_exporter": "python",
   "pygments_lexer": "ipython3",
   "version": "3.7.7"
  }
 },
 "nbformat": 4,
 "nbformat_minor": 2
}
