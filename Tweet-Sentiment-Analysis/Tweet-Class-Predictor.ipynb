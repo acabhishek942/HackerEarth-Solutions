{
 "cells": [
  {
   "cell_type": "code",
   "execution_count": 2,
   "metadata": {},
   "outputs": [],
   "source": [
    "import numpy as np\n",
    "import pandas as pd\n",
    "\n",
    "train_df = pd.read_csv('dataset/train.csv')\n",
    "test_df = pd.read_csv('dataset/test.csv')"
   ]
  },
  {
   "cell_type": "code",
   "execution_count": 52,
   "metadata": {},
   "outputs": [
    {
     "data": {
      "text/html": [
       "<div>\n",
       "<style scoped>\n",
       "    .dataframe tbody tr th:only-of-type {\n",
       "        vertical-align: middle;\n",
       "    }\n",
       "\n",
       "    .dataframe tbody tr th {\n",
       "        vertical-align: top;\n",
       "    }\n",
       "\n",
       "    .dataframe thead th {\n",
       "        text-align: right;\n",
       "    }\n",
       "</style>\n",
       "<table border=\"1\" class=\"dataframe\">\n",
       "  <thead>\n",
       "    <tr style=\"text-align: right;\">\n",
       "      <th></th>\n",
       "      <th>id</th>\n",
       "      <th>original_text</th>\n",
       "      <th>lang</th>\n",
       "      <th>retweet_count</th>\n",
       "      <th>original_author</th>\n",
       "      <th>sentiment_class</th>\n",
       "      <th>clean_tweet</th>\n",
       "      <th>tokens</th>\n",
       "    </tr>\n",
       "  </thead>\n",
       "  <tbody>\n",
       "    <tr>\n",
       "      <td>0</td>\n",
       "      <td>1.245025e+18</td>\n",
       "      <td>Happy #MothersDay to all you amazing mothers o...</td>\n",
       "      <td>en</td>\n",
       "      <td>0</td>\n",
       "      <td>BeenXXPired</td>\n",
       "      <td>0</td>\n",
       "      <td>happi mothersday amaz mother know hard not abl...</td>\n",
       "      <td>NC</td>\n",
       "    </tr>\n",
       "    <tr>\n",
       "      <td>1</td>\n",
       "      <td>1.245759e+18</td>\n",
       "      <td>Happy Mothers Day Mum - I'm sorry I can't be t...</td>\n",
       "      <td>en</td>\n",
       "      <td>1</td>\n",
       "      <td>FestiveFeeling</td>\n",
       "      <td>0</td>\n",
       "      <td>happi mother day mum im sorri cant bring mothe...</td>\n",
       "      <td>NC</td>\n",
       "    </tr>\n",
       "    <tr>\n",
       "      <td>2</td>\n",
       "      <td>1.246087e+18</td>\n",
       "      <td>Happy mothers day To all This doing a mothers ...</td>\n",
       "      <td>en</td>\n",
       "      <td>0</td>\n",
       "      <td>KrisAllenSak</td>\n",
       "      <td>-1</td>\n",
       "      <td>happi mother day mother day work today quiet t...</td>\n",
       "      <td>NC</td>\n",
       "    </tr>\n",
       "    <tr>\n",
       "      <td>3</td>\n",
       "      <td>1.244803e+18</td>\n",
       "      <td>Happy mothers day to this beautiful woman...ro...</td>\n",
       "      <td>en</td>\n",
       "      <td>0</td>\n",
       "      <td>Queenuchee</td>\n",
       "      <td>0</td>\n",
       "      <td>happi mother day beauti womanroyalti sooth mum...</td>\n",
       "      <td>NC</td>\n",
       "    </tr>\n",
       "    <tr>\n",
       "      <td>4</td>\n",
       "      <td>1.244876e+18</td>\n",
       "      <td>Remembering the 3 most amazing ladies who made...</td>\n",
       "      <td>en</td>\n",
       "      <td>0</td>\n",
       "      <td>brittan17446794</td>\n",
       "      <td>-1</td>\n",
       "      <td>rememb 3 amaz ladi made late grandmoth iri mum...</td>\n",
       "      <td>NC</td>\n",
       "    </tr>\n",
       "  </tbody>\n",
       "</table>\n",
       "</div>"
      ],
      "text/plain": [
       "             id                                      original_text lang  \\\n",
       "0  1.245025e+18  Happy #MothersDay to all you amazing mothers o...   en   \n",
       "1  1.245759e+18  Happy Mothers Day Mum - I'm sorry I can't be t...   en   \n",
       "2  1.246087e+18  Happy mothers day To all This doing a mothers ...   en   \n",
       "3  1.244803e+18  Happy mothers day to this beautiful woman...ro...   en   \n",
       "4  1.244876e+18  Remembering the 3 most amazing ladies who made...   en   \n",
       "\n",
       "  retweet_count  original_author  sentiment_class  \\\n",
       "0             0      BeenXXPired                0   \n",
       "1             1   FestiveFeeling                0   \n",
       "2             0     KrisAllenSak               -1   \n",
       "3             0       Queenuchee                0   \n",
       "4             0  brittan17446794               -1   \n",
       "\n",
       "                                         clean_tweet tokens  \n",
       "0  happi mothersday amaz mother know hard not abl...     NC  \n",
       "1  happi mother day mum im sorri cant bring mothe...     NC  \n",
       "2  happi mother day mother day work today quiet t...     NC  \n",
       "3  happi mother day beauti womanroyalti sooth mum...     NC  \n",
       "4  rememb 3 amaz ladi made late grandmoth iri mum...     NC  "
      ]
     },
     "execution_count": 52,
     "metadata": {},
     "output_type": "execute_result"
    }
   ],
   "source": [
    "train_df.head()"
   ]
  },
  {
   "cell_type": "code",
   "execution_count": 64,
   "metadata": {},
   "outputs": [],
   "source": [
    "from nltk.tokenize import TweetTokenizer # a tweet tokenizer from nltk.\n",
    "tokenizer = TweetTokenizer()\n",
    "def tokenize(tweet):\n",
    "\n",
    "    tweet = str(tweet.lower())\n",
    "    tokens = tokenizer.tokenize(tweet)\n",
    "    tokens = list(filter(lambda t: not t.startswith('@'), tokens))\n",
    "    tokens = list(filter(lambda t: not t.startswith('#'), tokens))\n",
    "    tokens = list(filter(lambda t: not t.startswith('http'), tokens))\n",
    "    return tokens\n",
    "\n",
    "    \n",
    "def postprocess(data):\n",
    "    data['tokens'] = data['original_text'].apply(tokenize)  ## progress_map is a variant of the map function plus a progress bar. Handy to monitor DataFrame creations.\n",
    "    print\n",
    "    data = data[data.tokens != 'NC']\n",
    "    return data\n",
    "\n",
    "data = postprocess(train_df)"
   ]
  },
  {
   "cell_type": "code",
   "execution_count": 65,
   "metadata": {},
   "outputs": [
    {
     "data": {
      "text/html": [
       "<div>\n",
       "<style scoped>\n",
       "    .dataframe tbody tr th:only-of-type {\n",
       "        vertical-align: middle;\n",
       "    }\n",
       "\n",
       "    .dataframe tbody tr th {\n",
       "        vertical-align: top;\n",
       "    }\n",
       "\n",
       "    .dataframe thead th {\n",
       "        text-align: right;\n",
       "    }\n",
       "</style>\n",
       "<table border=\"1\" class=\"dataframe\">\n",
       "  <thead>\n",
       "    <tr style=\"text-align: right;\">\n",
       "      <th></th>\n",
       "      <th>id</th>\n",
       "      <th>original_text</th>\n",
       "      <th>lang</th>\n",
       "      <th>retweet_count</th>\n",
       "      <th>original_author</th>\n",
       "      <th>sentiment_class</th>\n",
       "      <th>clean_tweet</th>\n",
       "      <th>tokens</th>\n",
       "    </tr>\n",
       "  </thead>\n",
       "  <tbody>\n",
       "    <tr>\n",
       "      <td>0</td>\n",
       "      <td>1.245025e+18</td>\n",
       "      <td>Happy #MothersDay to all you amazing mothers o...</td>\n",
       "      <td>en</td>\n",
       "      <td>0</td>\n",
       "      <td>BeenXXPired</td>\n",
       "      <td>0</td>\n",
       "      <td>happi mothersday amaz mother know hard not abl...</td>\n",
       "      <td>[happy, to, all, you, amazing, mothers, out, t...</td>\n",
       "    </tr>\n",
       "    <tr>\n",
       "      <td>1</td>\n",
       "      <td>1.245759e+18</td>\n",
       "      <td>Happy Mothers Day Mum - I'm sorry I can't be t...</td>\n",
       "      <td>en</td>\n",
       "      <td>1</td>\n",
       "      <td>FestiveFeeling</td>\n",
       "      <td>0</td>\n",
       "      <td>happi mother day mum im sorri cant bring mothe...</td>\n",
       "      <td>[happy, mothers, day, mum, -, i'm, sorry, i, c...</td>\n",
       "    </tr>\n",
       "    <tr>\n",
       "      <td>2</td>\n",
       "      <td>1.246087e+18</td>\n",
       "      <td>Happy mothers day To all This doing a mothers ...</td>\n",
       "      <td>en</td>\n",
       "      <td>0</td>\n",
       "      <td>KrisAllenSak</td>\n",
       "      <td>-1</td>\n",
       "      <td>happi mother day mother day work today quiet t...</td>\n",
       "      <td>[happy, mothers, day, to, all, this, doing, a,...</td>\n",
       "    </tr>\n",
       "    <tr>\n",
       "      <td>3</td>\n",
       "      <td>1.244803e+18</td>\n",
       "      <td>Happy mothers day to this beautiful woman...ro...</td>\n",
       "      <td>en</td>\n",
       "      <td>0</td>\n",
       "      <td>Queenuchee</td>\n",
       "      <td>0</td>\n",
       "      <td>happi mother day beauti womanroyalti sooth mum...</td>\n",
       "      <td>[happy, mothers, day, to, this, beautiful, wom...</td>\n",
       "    </tr>\n",
       "    <tr>\n",
       "      <td>4</td>\n",
       "      <td>1.244876e+18</td>\n",
       "      <td>Remembering the 3 most amazing ladies who made...</td>\n",
       "      <td>en</td>\n",
       "      <td>0</td>\n",
       "      <td>brittan17446794</td>\n",
       "      <td>-1</td>\n",
       "      <td>rememb 3 amaz ladi made late grandmoth iri mum...</td>\n",
       "      <td>[remembering, the, 3, most, amazing, ladies, w...</td>\n",
       "    </tr>\n",
       "  </tbody>\n",
       "</table>\n",
       "</div>"
      ],
      "text/plain": [
       "             id                                      original_text lang  \\\n",
       "0  1.245025e+18  Happy #MothersDay to all you amazing mothers o...   en   \n",
       "1  1.245759e+18  Happy Mothers Day Mum - I'm sorry I can't be t...   en   \n",
       "2  1.246087e+18  Happy mothers day To all This doing a mothers ...   en   \n",
       "3  1.244803e+18  Happy mothers day to this beautiful woman...ro...   en   \n",
       "4  1.244876e+18  Remembering the 3 most amazing ladies who made...   en   \n",
       "\n",
       "  retweet_count  original_author  sentiment_class  \\\n",
       "0             0      BeenXXPired                0   \n",
       "1             1   FestiveFeeling                0   \n",
       "2             0     KrisAllenSak               -1   \n",
       "3             0       Queenuchee                0   \n",
       "4             0  brittan17446794               -1   \n",
       "\n",
       "                                         clean_tweet  \\\n",
       "0  happi mothersday amaz mother know hard not abl...   \n",
       "1  happi mother day mum im sorri cant bring mothe...   \n",
       "2  happi mother day mother day work today quiet t...   \n",
       "3  happi mother day beauti womanroyalti sooth mum...   \n",
       "4  rememb 3 amaz ladi made late grandmoth iri mum...   \n",
       "\n",
       "                                              tokens  \n",
       "0  [happy, to, all, you, amazing, mothers, out, t...  \n",
       "1  [happy, mothers, day, mum, -, i'm, sorry, i, c...  \n",
       "2  [happy, mothers, day, to, all, this, doing, a,...  \n",
       "3  [happy, mothers, day, to, this, beautiful, wom...  \n",
       "4  [remembering, the, 3, most, amazing, ladies, w...  "
      ]
     },
     "execution_count": 65,
     "metadata": {},
     "output_type": "execute_result"
    }
   ],
   "source": [
    "data.head()"
   ]
  },
  {
   "cell_type": "code",
   "execution_count": 66,
   "metadata": {},
   "outputs": [],
   "source": [
    "from sklearn.model_selection import train_test_split\n",
    "x_train, x_val, y_train, y_val = train_test_split(np.array(data['tokens']),\n",
    "                                                    np.array(data['sentiment_class']), test_size=0.2)\n",
    "\n"
   ]
  },
  {
   "cell_type": "code",
   "execution_count": 67,
   "metadata": {},
   "outputs": [
    {
     "name": "stderr",
     "output_type": "stream",
     "text": [
      "0it [00:00, ?it/s]/usr/local/lib/python3.7/site-packages/ipykernel_launcher.py:9: DeprecationWarning: Call to deprecated `LabeledSentence` (Class will be removed in 4.0.0, use TaggedDocument instead).\n",
      "  if __name__ == '__main__':\n",
      "2588it [00:00, 128691.36it/s]\n",
      "647it [00:00, 143173.72it/s]\n"
     ]
    }
   ],
   "source": [
    "from tqdm import tqdm\n",
    "tqdm.pandas(desc=\"progress-bar\")\n",
    "LabeledSentence = doc2vec.LabeledSentence\n",
    "\n",
    "def labelizeTweets(tweets, label_type):\n",
    "    labelized = []\n",
    "    for i,v in tqdm(enumerate(tweets)):\n",
    "        label = '%s_%s'%(label_type,i)\n",
    "        labelized.append(LabeledSentence(v, [label]))\n",
    "    return labelized\n",
    "\n",
    "x_train = labelizeTweets(x_train, 'TRAIN')\n",
    "x_val = labelizeTweets(x_val, 'VAL')"
   ]
  },
  {
   "cell_type": "code",
   "execution_count": 68,
   "metadata": {},
   "outputs": [
    {
     "data": {
      "text/plain": [
       "LabeledSentence(words=['happy', 'mothers', 'day', 'to', 'the', 'many', 'mums', 'we', 'support', 'it', 'might', 'be', 'a', 'tough', 'few', 'weeks', 'ahead', 'but', 'you', 'can', 'do', 'this', ':/', '/', 'twitter.com/whyouthagency/', 'status', '/', '12417638639', '2369152', '1', '…'], tags=['TRAIN_0'])"
      ]
     },
     "execution_count": 68,
     "metadata": {},
     "output_type": "execute_result"
    }
   ],
   "source": [
    "x_train[0]"
   ]
  },
  {
   "cell_type": "code",
   "execution_count": 69,
   "metadata": {},
   "outputs": [
    {
     "name": "stderr",
     "output_type": "stream",
     "text": [
      "100%|██████████| 2588/2588 [00:00<00:00, 473990.60it/s]\n",
      "100%|██████████| 2588/2588 [00:00<00:00, 1201024.42it/s]\n"
     ]
    },
    {
     "data": {
      "text/plain": [
       "(460719, 953740)"
      ]
     },
     "execution_count": 69,
     "metadata": {},
     "output_type": "execute_result"
    }
   ],
   "source": [
    "n_dim = 200\n",
    "tweet_w2v = Word2Vec(size=n_dim, min_count=10)\n",
    "tweet_w2v.build_vocab([x.words for x in tqdm(x_train)])\n",
    "tweet_w2v.train([x.words for x in tqdm(x_train)], total_examples=len(x_train), epochs=10)"
   ]
  },
  {
   "cell_type": "code",
   "execution_count": 71,
   "metadata": {},
   "outputs": [
    {
     "name": "stderr",
     "output_type": "stream",
     "text": [
      "/usr/local/lib/python3.7/site-packages/ipykernel_launcher.py:1: DeprecationWarning: Call to deprecated `most_similar` (Method will be removed in 4.0.0, use self.wv.most_similar() instead).\n",
      "  \"\"\"Entry point for launching an IPython kernel.\n"
     ]
    },
    {
     "data": {
      "text/plain": [
       "[('day', 0.9567115306854248),\n",
       " ('beautiful', 0.9230166673660278),\n",
       " ('every', 0.9017370939254761),\n",
       " ('wishing', 0.8838872909545898),\n",
       " ('heavenly', 0.8785157203674316),\n",
       " ('belated', 0.876350462436676),\n",
       " ('mummy', 0.8758375644683838),\n",
       " ('fabulous', 0.8655744791030884),\n",
       " (\"'\", 0.8653419017791748),\n",
       " ('figures', 0.857086181640625)]"
      ]
     },
     "execution_count": 71,
     "metadata": {},
     "output_type": "execute_result"
    }
   ],
   "source": [
    "tweet_w2v.most_similar('happy')"
   ]
  },
  {
   "cell_type": "code",
   "execution_count": 75,
   "metadata": {},
   "outputs": [
    {
     "data": {
      "text/html": [
       "\n",
       "    <div class=\"bk-root\">\n",
       "        <a href=\"https://bokeh.org\" target=\"_blank\" class=\"bk-logo bk-logo-small bk-logo-notebook\"></a>\n",
       "        <span id=\"1066\">Loading BokehJS ...</span>\n",
       "    </div>"
      ]
     },
     "metadata": {},
     "output_type": "display_data"
    },
    {
     "data": {
      "application/javascript": [
       "\n",
       "(function(root) {\n",
       "  function now() {\n",
       "    return new Date();\n",
       "  }\n",
       "\n",
       "  var force = true;\n",
       "\n",
       "  if (typeof root._bokeh_onload_callbacks === \"undefined\" || force === true) {\n",
       "    root._bokeh_onload_callbacks = [];\n",
       "    root._bokeh_is_loading = undefined;\n",
       "  }\n",
       "\n",
       "  var JS_MIME_TYPE = 'application/javascript';\n",
       "  var HTML_MIME_TYPE = 'text/html';\n",
       "  var EXEC_MIME_TYPE = 'application/vnd.bokehjs_exec.v0+json';\n",
       "  var CLASS_NAME = 'output_bokeh rendered_html';\n",
       "\n",
       "  /**\n",
       "   * Render data to the DOM node\n",
       "   */\n",
       "  function render(props, node) {\n",
       "    var script = document.createElement(\"script\");\n",
       "    node.appendChild(script);\n",
       "  }\n",
       "\n",
       "  /**\n",
       "   * Handle when an output is cleared or removed\n",
       "   */\n",
       "  function handleClearOutput(event, handle) {\n",
       "    var cell = handle.cell;\n",
       "\n",
       "    var id = cell.output_area._bokeh_element_id;\n",
       "    var server_id = cell.output_area._bokeh_server_id;\n",
       "    // Clean up Bokeh references\n",
       "    if (id != null && id in Bokeh.index) {\n",
       "      Bokeh.index[id].model.document.clear();\n",
       "      delete Bokeh.index[id];\n",
       "    }\n",
       "\n",
       "    if (server_id !== undefined) {\n",
       "      // Clean up Bokeh references\n",
       "      var cmd = \"from bokeh.io.state import curstate; print(curstate().uuid_to_server['\" + server_id + \"'].get_sessions()[0].document.roots[0]._id)\";\n",
       "      cell.notebook.kernel.execute(cmd, {\n",
       "        iopub: {\n",
       "          output: function(msg) {\n",
       "            var id = msg.content.text.trim();\n",
       "            if (id in Bokeh.index) {\n",
       "              Bokeh.index[id].model.document.clear();\n",
       "              delete Bokeh.index[id];\n",
       "            }\n",
       "          }\n",
       "        }\n",
       "      });\n",
       "      // Destroy server and session\n",
       "      var cmd = \"import bokeh.io.notebook as ion; ion.destroy_server('\" + server_id + \"')\";\n",
       "      cell.notebook.kernel.execute(cmd);\n",
       "    }\n",
       "  }\n",
       "\n",
       "  /**\n",
       "   * Handle when a new output is added\n",
       "   */\n",
       "  function handleAddOutput(event, handle) {\n",
       "    var output_area = handle.output_area;\n",
       "    var output = handle.output;\n",
       "\n",
       "    // limit handleAddOutput to display_data with EXEC_MIME_TYPE content only\n",
       "    if ((output.output_type != \"display_data\") || (!output.data.hasOwnProperty(EXEC_MIME_TYPE))) {\n",
       "      return\n",
       "    }\n",
       "\n",
       "    var toinsert = output_area.element.find(\".\" + CLASS_NAME.split(' ')[0]);\n",
       "\n",
       "    if (output.metadata[EXEC_MIME_TYPE][\"id\"] !== undefined) {\n",
       "      toinsert[toinsert.length - 1].firstChild.textContent = output.data[JS_MIME_TYPE];\n",
       "      // store reference to embed id on output_area\n",
       "      output_area._bokeh_element_id = output.metadata[EXEC_MIME_TYPE][\"id\"];\n",
       "    }\n",
       "    if (output.metadata[EXEC_MIME_TYPE][\"server_id\"] !== undefined) {\n",
       "      var bk_div = document.createElement(\"div\");\n",
       "      bk_div.innerHTML = output.data[HTML_MIME_TYPE];\n",
       "      var script_attrs = bk_div.children[0].attributes;\n",
       "      for (var i = 0; i < script_attrs.length; i++) {\n",
       "        toinsert[toinsert.length - 1].firstChild.setAttribute(script_attrs[i].name, script_attrs[i].value);\n",
       "        toinsert[toinsert.length - 1].firstChild.textContent = bk_div.children[0].textContent\n",
       "      }\n",
       "      // store reference to server id on output_area\n",
       "      output_area._bokeh_server_id = output.metadata[EXEC_MIME_TYPE][\"server_id\"];\n",
       "    }\n",
       "  }\n",
       "\n",
       "  function register_renderer(events, OutputArea) {\n",
       "\n",
       "    function append_mime(data, metadata, element) {\n",
       "      // create a DOM node to render to\n",
       "      var toinsert = this.create_output_subarea(\n",
       "        metadata,\n",
       "        CLASS_NAME,\n",
       "        EXEC_MIME_TYPE\n",
       "      );\n",
       "      this.keyboard_manager.register_events(toinsert);\n",
       "      // Render to node\n",
       "      var props = {data: data, metadata: metadata[EXEC_MIME_TYPE]};\n",
       "      render(props, toinsert[toinsert.length - 1]);\n",
       "      element.append(toinsert);\n",
       "      return toinsert\n",
       "    }\n",
       "\n",
       "    /* Handle when an output is cleared or removed */\n",
       "    events.on('clear_output.CodeCell', handleClearOutput);\n",
       "    events.on('delete.Cell', handleClearOutput);\n",
       "\n",
       "    /* Handle when a new output is added */\n",
       "    events.on('output_added.OutputArea', handleAddOutput);\n",
       "\n",
       "    /**\n",
       "     * Register the mime type and append_mime function with output_area\n",
       "     */\n",
       "    OutputArea.prototype.register_mime_type(EXEC_MIME_TYPE, append_mime, {\n",
       "      /* Is output safe? */\n",
       "      safe: true,\n",
       "      /* Index of renderer in `output_area.display_order` */\n",
       "      index: 0\n",
       "    });\n",
       "  }\n",
       "\n",
       "  // register the mime type if in Jupyter Notebook environment and previously unregistered\n",
       "  if (root.Jupyter !== undefined) {\n",
       "    var events = require('base/js/events');\n",
       "    var OutputArea = require('notebook/js/outputarea').OutputArea;\n",
       "\n",
       "    if (OutputArea.prototype.mime_types().indexOf(EXEC_MIME_TYPE) == -1) {\n",
       "      register_renderer(events, OutputArea);\n",
       "    }\n",
       "  }\n",
       "\n",
       "  \n",
       "  if (typeof (root._bokeh_timeout) === \"undefined\" || force === true) {\n",
       "    root._bokeh_timeout = Date.now() + 5000;\n",
       "    root._bokeh_failed_load = false;\n",
       "  }\n",
       "\n",
       "  var NB_LOAD_WARNING = {'data': {'text/html':\n",
       "     \"<div style='background-color: #fdd'>\\n\"+\n",
       "     \"<p>\\n\"+\n",
       "     \"BokehJS does not appear to have successfully loaded. If loading BokehJS from CDN, this \\n\"+\n",
       "     \"may be due to a slow or bad network connection. Possible fixes:\\n\"+\n",
       "     \"</p>\\n\"+\n",
       "     \"<ul>\\n\"+\n",
       "     \"<li>re-rerun `output_notebook()` to attempt to load from CDN again, or</li>\\n\"+\n",
       "     \"<li>use INLINE resources instead, as so:</li>\\n\"+\n",
       "     \"</ul>\\n\"+\n",
       "     \"<code>\\n\"+\n",
       "     \"from bokeh.resources import INLINE\\n\"+\n",
       "     \"output_notebook(resources=INLINE)\\n\"+\n",
       "     \"</code>\\n\"+\n",
       "     \"</div>\"}};\n",
       "\n",
       "  function display_loaded() {\n",
       "    var el = document.getElementById(\"1066\");\n",
       "    if (el != null) {\n",
       "      el.textContent = \"BokehJS is loading...\";\n",
       "    }\n",
       "    if (root.Bokeh !== undefined) {\n",
       "      if (el != null) {\n",
       "        el.textContent = \"BokehJS \" + root.Bokeh.version + \" successfully loaded.\";\n",
       "      }\n",
       "    } else if (Date.now() < root._bokeh_timeout) {\n",
       "      setTimeout(display_loaded, 100)\n",
       "    }\n",
       "  }\n",
       "\n",
       "\n",
       "  function run_callbacks() {\n",
       "    try {\n",
       "      root._bokeh_onload_callbacks.forEach(function(callback) {\n",
       "        if (callback != null)\n",
       "          callback();\n",
       "      });\n",
       "    } finally {\n",
       "      delete root._bokeh_onload_callbacks\n",
       "    }\n",
       "    console.debug(\"Bokeh: all callbacks have finished\");\n",
       "  }\n",
       "\n",
       "  function load_libs(css_urls, js_urls, callback) {\n",
       "    if (css_urls == null) css_urls = [];\n",
       "    if (js_urls == null) js_urls = [];\n",
       "\n",
       "    root._bokeh_onload_callbacks.push(callback);\n",
       "    if (root._bokeh_is_loading > 0) {\n",
       "      console.debug(\"Bokeh: BokehJS is being loaded, scheduling callback at\", now());\n",
       "      return null;\n",
       "    }\n",
       "    if (js_urls == null || js_urls.length === 0) {\n",
       "      run_callbacks();\n",
       "      return null;\n",
       "    }\n",
       "    console.debug(\"Bokeh: BokehJS not loaded, scheduling load and callback at\", now());\n",
       "    root._bokeh_is_loading = css_urls.length + js_urls.length;\n",
       "\n",
       "    function on_load() {\n",
       "      root._bokeh_is_loading--;\n",
       "      if (root._bokeh_is_loading === 0) {\n",
       "        console.debug(\"Bokeh: all BokehJS libraries/stylesheets loaded\");\n",
       "        run_callbacks()\n",
       "      }\n",
       "    }\n",
       "\n",
       "    function on_error() {\n",
       "      console.error(\"failed to load \" + url);\n",
       "    }\n",
       "\n",
       "    for (var i = 0; i < css_urls.length; i++) {\n",
       "      var url = css_urls[i];\n",
       "      const element = document.createElement(\"link\");\n",
       "      element.onload = on_load;\n",
       "      element.onerror = on_error;\n",
       "      element.rel = \"stylesheet\";\n",
       "      element.type = \"text/css\";\n",
       "      element.href = url;\n",
       "      console.debug(\"Bokeh: injecting link tag for BokehJS stylesheet: \", url);\n",
       "      document.body.appendChild(element);\n",
       "    }\n",
       "\n",
       "    const hashes = {\"https://cdn.bokeh.org/bokeh/release/bokeh-2.0.2.min.js\": \"ufR9RFnRs6lniiaFvtJziE0YeidtAgBRH6ux2oUItHw5WTvE1zuk9uzhUU/FJXDp\", \"https://cdn.bokeh.org/bokeh/release/bokeh-widgets-2.0.2.min.js\": \"8QM/PGWBT+IssZuRcDcjzwIh1mkOmJSoNMmyYDZbCfXJg3Ap1lEvdVgFuSAwhb/J\", \"https://cdn.bokeh.org/bokeh/release/bokeh-tables-2.0.2.min.js\": \"Jm8cH3Rg0P6UeZhVY5cLy1WzKajUT9KImCY+76hEqrcJt59/d8GPvFHjCkYgnSIn\", \"https://cdn.bokeh.org/bokeh/release/bokeh-gl-2.0.2.min.js\": \"Ozhzj+SI7ywm74aOI/UajcWz+C0NjsPunEVyVIrxzYkB+jA+2tUw8x5xJCbVtK5I\"};\n",
       "\n",
       "    for (var i = 0; i < js_urls.length; i++) {\n",
       "      var url = js_urls[i];\n",
       "      var element = document.createElement('script');\n",
       "      element.onload = on_load;\n",
       "      element.onerror = on_error;\n",
       "      element.async = false;\n",
       "      element.src = url;\n",
       "      if (url in hashes) {\n",
       "        element.crossOrigin = \"anonymous\";\n",
       "        element.integrity = \"sha384-\" + hashes[url];\n",
       "      }\n",
       "      console.debug(\"Bokeh: injecting script tag for BokehJS library: \", url);\n",
       "      document.head.appendChild(element);\n",
       "    }\n",
       "  };\n",
       "\n",
       "  function inject_raw_css(css) {\n",
       "    const element = document.createElement(\"style\");\n",
       "    element.appendChild(document.createTextNode(css));\n",
       "    document.body.appendChild(element);\n",
       "  }\n",
       "\n",
       "  \n",
       "  var js_urls = [\"https://cdn.bokeh.org/bokeh/release/bokeh-2.0.2.min.js\", \"https://cdn.bokeh.org/bokeh/release/bokeh-widgets-2.0.2.min.js\", \"https://cdn.bokeh.org/bokeh/release/bokeh-tables-2.0.2.min.js\", \"https://cdn.bokeh.org/bokeh/release/bokeh-gl-2.0.2.min.js\"];\n",
       "  var css_urls = [];\n",
       "  \n",
       "\n",
       "  var inline_js = [\n",
       "    function(Bokeh) {\n",
       "      Bokeh.set_log_level(\"info\");\n",
       "    },\n",
       "    function(Bokeh) {\n",
       "    \n",
       "    \n",
       "    }\n",
       "  ];\n",
       "\n",
       "  function run_inline_js() {\n",
       "    \n",
       "    if (root.Bokeh !== undefined || force === true) {\n",
       "      \n",
       "    for (var i = 0; i < inline_js.length; i++) {\n",
       "      inline_js[i].call(root, root.Bokeh);\n",
       "    }\n",
       "    if (force === true) {\n",
       "        display_loaded();\n",
       "      }} else if (Date.now() < root._bokeh_timeout) {\n",
       "      setTimeout(run_inline_js, 100);\n",
       "    } else if (!root._bokeh_failed_load) {\n",
       "      console.log(\"Bokeh: BokehJS failed to load within specified timeout.\");\n",
       "      root._bokeh_failed_load = true;\n",
       "    } else if (force !== true) {\n",
       "      var cell = $(document.getElementById(\"1066\")).parents('.cell').data().cell;\n",
       "      cell.output_area.append_execute_result(NB_LOAD_WARNING)\n",
       "    }\n",
       "\n",
       "  }\n",
       "\n",
       "  if (root._bokeh_is_loading === 0) {\n",
       "    console.debug(\"Bokeh: BokehJS loaded, going straight to plotting\");\n",
       "    run_inline_js();\n",
       "  } else {\n",
       "    load_libs(css_urls, js_urls, function() {\n",
       "      console.debug(\"Bokeh: BokehJS plotting callback run at\", now());\n",
       "      run_inline_js();\n",
       "    });\n",
       "  }\n",
       "}(window));"
      ],
      "application/vnd.bokehjs_load.v0+json": "\n(function(root) {\n  function now() {\n    return new Date();\n  }\n\n  var force = true;\n\n  if (typeof root._bokeh_onload_callbacks === \"undefined\" || force === true) {\n    root._bokeh_onload_callbacks = [];\n    root._bokeh_is_loading = undefined;\n  }\n\n  \n\n  \n  if (typeof (root._bokeh_timeout) === \"undefined\" || force === true) {\n    root._bokeh_timeout = Date.now() + 5000;\n    root._bokeh_failed_load = false;\n  }\n\n  var NB_LOAD_WARNING = {'data': {'text/html':\n     \"<div style='background-color: #fdd'>\\n\"+\n     \"<p>\\n\"+\n     \"BokehJS does not appear to have successfully loaded. If loading BokehJS from CDN, this \\n\"+\n     \"may be due to a slow or bad network connection. Possible fixes:\\n\"+\n     \"</p>\\n\"+\n     \"<ul>\\n\"+\n     \"<li>re-rerun `output_notebook()` to attempt to load from CDN again, or</li>\\n\"+\n     \"<li>use INLINE resources instead, as so:</li>\\n\"+\n     \"</ul>\\n\"+\n     \"<code>\\n\"+\n     \"from bokeh.resources import INLINE\\n\"+\n     \"output_notebook(resources=INLINE)\\n\"+\n     \"</code>\\n\"+\n     \"</div>\"}};\n\n  function display_loaded() {\n    var el = document.getElementById(\"1066\");\n    if (el != null) {\n      el.textContent = \"BokehJS is loading...\";\n    }\n    if (root.Bokeh !== undefined) {\n      if (el != null) {\n        el.textContent = \"BokehJS \" + root.Bokeh.version + \" successfully loaded.\";\n      }\n    } else if (Date.now() < root._bokeh_timeout) {\n      setTimeout(display_loaded, 100)\n    }\n  }\n\n\n  function run_callbacks() {\n    try {\n      root._bokeh_onload_callbacks.forEach(function(callback) {\n        if (callback != null)\n          callback();\n      });\n    } finally {\n      delete root._bokeh_onload_callbacks\n    }\n    console.debug(\"Bokeh: all callbacks have finished\");\n  }\n\n  function load_libs(css_urls, js_urls, callback) {\n    if (css_urls == null) css_urls = [];\n    if (js_urls == null) js_urls = [];\n\n    root._bokeh_onload_callbacks.push(callback);\n    if (root._bokeh_is_loading > 0) {\n      console.debug(\"Bokeh: BokehJS is being loaded, scheduling callback at\", now());\n      return null;\n    }\n    if (js_urls == null || js_urls.length === 0) {\n      run_callbacks();\n      return null;\n    }\n    console.debug(\"Bokeh: BokehJS not loaded, scheduling load and callback at\", now());\n    root._bokeh_is_loading = css_urls.length + js_urls.length;\n\n    function on_load() {\n      root._bokeh_is_loading--;\n      if (root._bokeh_is_loading === 0) {\n        console.debug(\"Bokeh: all BokehJS libraries/stylesheets loaded\");\n        run_callbacks()\n      }\n    }\n\n    function on_error() {\n      console.error(\"failed to load \" + url);\n    }\n\n    for (var i = 0; i < css_urls.length; i++) {\n      var url = css_urls[i];\n      const element = document.createElement(\"link\");\n      element.onload = on_load;\n      element.onerror = on_error;\n      element.rel = \"stylesheet\";\n      element.type = \"text/css\";\n      element.href = url;\n      console.debug(\"Bokeh: injecting link tag for BokehJS stylesheet: \", url);\n      document.body.appendChild(element);\n    }\n\n    const hashes = {\"https://cdn.bokeh.org/bokeh/release/bokeh-2.0.2.min.js\": \"ufR9RFnRs6lniiaFvtJziE0YeidtAgBRH6ux2oUItHw5WTvE1zuk9uzhUU/FJXDp\", \"https://cdn.bokeh.org/bokeh/release/bokeh-widgets-2.0.2.min.js\": \"8QM/PGWBT+IssZuRcDcjzwIh1mkOmJSoNMmyYDZbCfXJg3Ap1lEvdVgFuSAwhb/J\", \"https://cdn.bokeh.org/bokeh/release/bokeh-tables-2.0.2.min.js\": \"Jm8cH3Rg0P6UeZhVY5cLy1WzKajUT9KImCY+76hEqrcJt59/d8GPvFHjCkYgnSIn\", \"https://cdn.bokeh.org/bokeh/release/bokeh-gl-2.0.2.min.js\": \"Ozhzj+SI7ywm74aOI/UajcWz+C0NjsPunEVyVIrxzYkB+jA+2tUw8x5xJCbVtK5I\"};\n\n    for (var i = 0; i < js_urls.length; i++) {\n      var url = js_urls[i];\n      var element = document.createElement('script');\n      element.onload = on_load;\n      element.onerror = on_error;\n      element.async = false;\n      element.src = url;\n      if (url in hashes) {\n        element.crossOrigin = \"anonymous\";\n        element.integrity = \"sha384-\" + hashes[url];\n      }\n      console.debug(\"Bokeh: injecting script tag for BokehJS library: \", url);\n      document.head.appendChild(element);\n    }\n  };\n\n  function inject_raw_css(css) {\n    const element = document.createElement(\"style\");\n    element.appendChild(document.createTextNode(css));\n    document.body.appendChild(element);\n  }\n\n  \n  var js_urls = [\"https://cdn.bokeh.org/bokeh/release/bokeh-2.0.2.min.js\", \"https://cdn.bokeh.org/bokeh/release/bokeh-widgets-2.0.2.min.js\", \"https://cdn.bokeh.org/bokeh/release/bokeh-tables-2.0.2.min.js\", \"https://cdn.bokeh.org/bokeh/release/bokeh-gl-2.0.2.min.js\"];\n  var css_urls = [];\n  \n\n  var inline_js = [\n    function(Bokeh) {\n      Bokeh.set_log_level(\"info\");\n    },\n    function(Bokeh) {\n    \n    \n    }\n  ];\n\n  function run_inline_js() {\n    \n    if (root.Bokeh !== undefined || force === true) {\n      \n    for (var i = 0; i < inline_js.length; i++) {\n      inline_js[i].call(root, root.Bokeh);\n    }\n    if (force === true) {\n        display_loaded();\n      }} else if (Date.now() < root._bokeh_timeout) {\n      setTimeout(run_inline_js, 100);\n    } else if (!root._bokeh_failed_load) {\n      console.log(\"Bokeh: BokehJS failed to load within specified timeout.\");\n      root._bokeh_failed_load = true;\n    } else if (force !== true) {\n      var cell = $(document.getElementById(\"1066\")).parents('.cell').data().cell;\n      cell.output_area.append_execute_result(NB_LOAD_WARNING)\n    }\n\n  }\n\n  if (root._bokeh_is_loading === 0) {\n    console.debug(\"Bokeh: BokehJS loaded, going straight to plotting\");\n    run_inline_js();\n  } else {\n    load_libs(css_urls, js_urls, function() {\n      console.debug(\"Bokeh: BokehJS plotting callback run at\", now());\n      run_inline_js();\n    });\n  }\n}(window));"
     },
     "metadata": {},
     "output_type": "display_data"
    },
    {
     "name": "stderr",
     "output_type": "stream",
     "text": [
      "/usr/local/lib/python3.7/site-packages/ipykernel_launcher.py:12: DeprecationWarning: Call to deprecated `__getitem__` (Method will be removed in 4.0.0, use self.wv.__getitem__() instead).\n",
      "  if sys.path[0] == '':\n"
     ]
    },
    {
     "name": "stdout",
     "output_type": "stream",
     "text": [
      "[t-SNE] Computing 91 nearest neighbors...\n",
      "[t-SNE] Indexed 756 samples in 0.010s...\n",
      "[t-SNE] Computed neighbors for 756 samples in 0.509s...\n",
      "[t-SNE] Computed conditional probabilities for sample 756 / 756\n",
      "[t-SNE] Mean sigma: 0.190022\n",
      "[t-SNE] KL divergence after 250 iterations with early exaggeration: 65.121391\n",
      "[t-SNE] KL divergence after 1000 iterations: 0.897207\n"
     ]
    },
    {
     "data": {
      "text/html": [
       "\n",
       "\n",
       "\n",
       "\n",
       "\n",
       "\n",
       "  <div class=\"bk-root\" id=\"de06c759-5168-48fa-b03d-34dacd02121f\" data-root-id=\"1067\"></div>\n"
      ]
     },
     "metadata": {},
     "output_type": "display_data"
    },
    {
     "data": {
      "application/javascript": [
       "(function(root) {\n",
       "  function embed_document(root) {\n",
       "    \n",
       "  var docs_json = {\"3df3ffe2-c28c-429b-b95b-c3cd05bad215\":{\"roots\":{\"references\":[{\"attributes\":{\"min_border\":1,\"plot_width\":700,\"renderers\":[{\"id\":\"1094\"}],\"title\":{\"id\":\"1068\"},\"toolbar\":{\"id\":\"1084\"},\"x_range\":{\"id\":\"1070\"},\"x_scale\":{\"id\":\"1074\"},\"y_range\":{\"id\":\"1072\"},\"y_scale\":{\"id\":\"1076\"}},\"id\":\"1067\",\"subtype\":\"Figure\",\"type\":\"Plot\"},{\"attributes\":{\"fill_color\":{\"value\":\"#1f77b4\"},\"line_color\":{\"value\":\"#1f77b4\"},\"x\":{\"field\":\"x\"},\"y\":{\"field\":\"y\"}},\"id\":\"1092\",\"type\":\"Scatter\"},{\"attributes\":{},\"id\":\"1070\",\"type\":\"DataRange1d\"},{\"attributes\":{},\"id\":\"1098\",\"type\":\"UnionRenderers\"},{\"attributes\":{},\"id\":\"1099\",\"type\":\"Selection\"},{\"attributes\":{},\"id\":\"1072\",\"type\":\"DataRange1d\"},{\"attributes\":{},\"id\":\"1078\",\"type\":\"PanTool\"},{\"attributes\":{\"active_drag\":\"auto\",\"active_inspect\":\"auto\",\"active_multi\":null,\"active_scroll\":\"auto\",\"active_tap\":\"auto\",\"tools\":[{\"id\":\"1078\"},{\"id\":\"1079\"},{\"id\":\"1080\"},{\"id\":\"1081\"},{\"id\":\"1082\"}]},\"id\":\"1084\",\"type\":\"Toolbar\"},{\"attributes\":{\"source\":{\"id\":\"1090\"}},\"id\":\"1095\",\"type\":\"CDSView\"},{\"attributes\":{\"data\":{\"index\":[0,1,2,3,4,5,6,7,8,9,10,11,12,13,14,15,16,17,18,19,20,21,22,23,24,25,26,27,28,29,30,31,32,33,34,35,36,37,38,39,40,41,42,43,44,45,46,47,48,49,50,51,52,53,54,55,56,57,58,59,60,61,62,63,64,65,66,67,68,69,70,71,72,73,74,75,76,77,78,79,80,81,82,83,84,85,86,87,88,89,90,91,92,93,94,95,96,97,98,99,100,101,102,103,104,105,106,107,108,109,110,111,112,113,114,115,116,117,118,119,120,121,122,123,124,125,126,127,128,129,130,131,132,133,134,135,136,137,138,139,140,141,142,143,144,145,146,147,148,149,150,151,152,153,154,155,156,157,158,159,160,161,162,163,164,165,166,167,168,169,170,171,172,173,174,175,176,177,178,179,180,181,182,183,184,185,186,187,188,189,190,191,192,193,194,195,196,197,198,199,200,201,202,203,204,205,206,207,208,209,210,211,212,213,214,215,216,217,218,219,220,221,222,223,224,225,226,227,228,229,230,231,232,233,234,235,236,237,238,239,240,241,242,243,244,245,246,247,248,249,250,251,252,253,254,255,256,257,258,259,260,261,262,263,264,265,266,267,268,269,270,271,272,273,274,275,276,277,278,279,280,281,282,283,284,285,286,287,288,289,290,291,292,293,294,295,296,297,298,299,300,301,302,303,304,305,306,307,308,309,310,311,312,313,314,315,316,317,318,319,320,321,322,323,324,325,326,327,328,329,330,331,332,333,334,335,336,337,338,339,340,341,342,343,344,345,346,347,348,349,350,351,352,353,354,355,356,357,358,359,360,361,362,363,364,365,366,367,368,369,370,371,372,373,374,375,376,377,378,379,380,381,382,383,384,385,386,387,388,389,390,391,392,393,394,395,396,397,398,399,400,401,402,403,404,405,406,407,408,409,410,411,412,413,414,415,416,417,418,419,420,421,422,423,424,425,426,427,428,429,430,431,432,433,434,435,436,437,438,439,440,441,442,443,444,445,446,447,448,449,450,451,452,453,454,455,456,457,458,459,460,461,462,463,464,465,466,467,468,469,470,471,472,473,474,475,476,477,478,479,480,481,482,483,484,485,486,487,488,489,490,491,492,493,494,495,496,497,498,499,500,501,502,503,504,505,506,507,508,509,510,511,512,513,514,515,516,517,518,519,520,521,522,523,524,525,526,527,528,529,530,531,532,533,534,535,536,537,538,539,540,541,542,543,544,545,546,547,548,549,550,551,552,553,554,555,556,557,558,559,560,561,562,563,564,565,566,567,568,569,570,571,572,573,574,575,576,577,578,579,580,581,582,583,584,585,586,587,588,589,590,591,592,593,594,595,596,597,598,599,600,601,602,603,604,605,606,607,608,609,610,611,612,613,614,615,616,617,618,619,620,621,622,623,624,625,626,627,628,629,630,631,632,633,634,635,636,637,638,639,640,641,642,643,644,645,646,647,648,649,650,651,652,653,654,655,656,657,658,659,660,661,662,663,664,665,666,667,668,669,670,671,672,673,674,675,676,677,678,679,680,681,682,683,684,685,686,687,688,689,690,691,692,693,694,695,696,697,698,699,700,701,702,703,704,705,706,707,708,709,710,711,712,713,714,715,716,717,718,719,720,721,722,723,724,725,726,727,728,729,730,731,732,733,734,735,736,737,738,739,740,741,742,743,744,745,746,747,748,749,750,751,752,753,754,755],\"words\":[\"happy\",\"mothers\",\"day\",\"to\",\"the\",\"many\",\"mums\",\"we\",\"support\",\"it\",\"might\",\"be\",\"a\",\"tough\",\"few\",\"weeks\",\"but\",\"you\",\"can\",\"do\",\"this\",\":/\",\"/\",\"status\",\"1\",\"\\u2026\",\"all\",\"who\",\"look\",\"after\",\"us\",\"!\",\"during\",\"those\",\"times\",\"especially\",\",\",\"put\",\"down\",\"and\",\"tell\",\"your\",\"mum\",\"how\",\"much\",\"appreciate\",\"her\",\"in\",\"video\",\"always\",\"protect\",\"their\",\"children\",\"past\",\"week\",\"has\",\"been\",\"challenging\",\"for\",\"of\",\"i\",\"\\u2019\",\"m\",\"so\",\"thankful\",\"ve\",\"had\",\"my\",\"mother\",\"at\",\"end\",\"phone\",\"with\",\"words\",\".\",\"wonderful\",\"out\",\"there\",\"sacrifices\",\"others\",\"first\",\"even\",\"on\",\"special\",\"everyone\",\"is\",\"round\",\"me\",\"live\",\"maybe\",\"one\",\"or\",\"mothering\",\"sunday\",\"from\",\"here\",\"hope\",\"are\",\"spoilt\",\"take\",\"time\",\"?\",\"igshid\",\"=\",\"can't\",\"thank\",\"enough\",\"ma\",\"have\",\"done\",\"doing\",\"long\",\"life\",\"health\",\"jesus\",\"name\",\"amen\",\"love\",\"celebrate\",\"\\\"\",\"given\",\"birth\",\"yet\",\"i'm\",\"-\",\"says\",\"|\",\"s\",\"super\",\"moms\",\"0\",\"up\",\"sharing\",\"song\",\"did\",\"today\",\"people\",\"missing\",\"own\",\"link\",\"below\",\"mother's\",\"only\",\"will\",\"say\",\"when\",\"wish\",\"that\",\"not\",\"god\",\"we're\",\"each\",\"other\",\"being\",\"awesome\",\"perfect\",\"she\",\"would\",\"know\",\"\\u201c\",\"mom\",\"loving\",\"\\u2013\",\"\\u201d\",\"mama\",\"across\",\"grandmothers\",\"foster\",\"figures\",\"our\",\"lives\",\"an\",\"unusual\",\"keeping\",\"safe\",\"best\",\"way\",\"staff\",\"like\",\"mummy\",\"lovely\",\"care\",\"see\",\"soon\",\"no\",\"im\",\"trans\",\"son\",\"still\",\"woman\",\"gave\",\"him\",\"its\",\"actually\",\"hard\",\"work\",\"making\",\"little\",\"most\",\"carers\",\"working\",\"thinking\",\"'\",\"amazing\",\"fantastic\",\"play\",\"keep\",\"things\",\"together\",\"stay\",\"healthy\",\"forward\",\"families\",\"house\",\"future\",\"may\",\"continue\",\"bless\",\"use\",\"them\",\"world\",\"beautiful\",\"cards\",\"they\",\"girl\",\"which\",\"nice\",\"because\",\"home\",\"greatest\",\"means\",\"...\",\"without\",\"wouldn't\",\"living\",\"am\",\"now\",\"was\",\"everything\",\"kind\",\"positive\",\"caring\",\"strong\",\"great\",\"shout\",\"too\",\"deserve\",\"yes\",\"course\",\"wished\",\"about\",\"needs\",\"away\",\"kids\",\"keeps\",\"if\",\"having\",\"come\",\"&\",\"facebook\",\"seems\",\"forgot\",\"twitter\",\"post\",\"sorry\",\"old\",\"young\",\"peace\",\"wishing\",\"over\",\"sadly\",\"able\",\"spend\",\"loved\",\"ones\",\"let's\",\"what\",\"\\u2060\",\"two\",\"favourite\",\"lady\",\"last\",\"every\",\"someone\",\"sunny\",\"open\",\"3\",\". . . .\",\"virtual\",\"card\",\"made\",\"by\",\"share\",\"check\",\"birthday\",\"women\",\"make\",\"feel\",\"appreciated\",\"xx\",\"aunties\",\"watch\",\"uk\",\"xxx\",\"new\",\"later\",\"year\",\"these\",\"ll\",\"stop\",\"getting\",\"through\",\"x\",\"forever\",\"friend\",\"nanny\",\"very\",\"u\",\"momma\",\"huge\",\"sending\",\"seen\",\"big\",\"mine\",\"ladies\",\"supporting\",\"walk\",\"distance\",\"as\",\"wee\",\"man\",\"risk\",\"he\",\"get\",\"go\",\"guys\",\"presents\",\"just\",\"chat\",\"whole\",\"his\",\"due\",\"covid\",\"19\",\"isolation\",\"looking\",\"babies\",\"nan\",\"miss\",\"although\",\"mammies\",\"present\",\"dad\",\"dog\",\"role\",\"raised\",\"law\",\"themselves\",\"help\",\"good\",\"daughter\",\"wife\",\"sister\",\"heavenly\",\"cherish\",\"parents\",\"you've\",\"whatever\",\"call\",\"mammy\",\"flowers\",\"missed\",\"whilst\",\"t\",\"wait\",\"better\",\"gorgeous\",\"enjoy\",\"sun\",\"seeing\",\"brilliant\",\"(\",\"back\",\"though\",\")\",\"1st\",\"real\",\"word\",\"taught\",\"any\",\"bit\",\"dear\",\"despite\",\"difficult\",\"free\",\"saw\",\"sunshine\",\"got\",\"myself\",\"strange\",\"hugs\",\"lot\",\"send\",\"tonight\",\"message\",\"well\",\"circumstances\",\"longer\",\"united\",\"kingdom\",\"motherhood\",\"..\",\". . .\",\"job\",\"nhs\",\"never\",\"must\",\"more\",\"than\",\"ever\",\"proud\",\"used\",\"need\",\"anyone\",\"please\",\"let\",\"some\",\"then\",\"angel\",\"celebrating\",\"into\",\"find\",\"earth\",\"entire\",\"that's\",\"going\",\"right\",\"sure\",\"close\",\"grateful\",\"obviously\",\"virus\",\"glad\",\"received\",\"mummy's\",\"friends\",\"family\",\"members\",\"staying\",\"posts\",\"bring\",\"i'd\",\"i'll\",\"lots\",\"p\",\"photos\",\". . . . .\",\"single\",\"months\",\"rest\",\"before\",\"fun\",\"morning\",\"6\",\"n\",\"full\",\"laughter\",\". .\",\"don't\",\"forget\",\"including\",\"o\",\"cant\",\"visit\",\"doesn't\",\"quite\",\"spent\",\"years\",\"ago\",\"off\",\"comes\",\"second\",\"belated\",\"around\",\"incredible\",\"xxxx\",\"mind\",\"could\",\"reason\",\"really\",\"want\",\"putting\",\"said\",\"thoughts\",\"such\",\"also\",\"while\",\"it's\",\"side\",\"oh\",\"customers\",\"wherever\",\"you're\",\"place\",\"another\",\"aka\",\"sisters\",\"couldn\",\"far\",\"apart\",\":\",\"something\",\"fabulous\",\"thanks\",\"give\",\"yours\",\"human\",\"won't\",\"spoil\",\"glass\",\"different\",\"treat\",\"via\",\"weekend\",\"taking\",\"night\",\"playing\",\"instead\",\"join\",\"mams\",\"2\",\"4\",\"team\",\"important\",\"royal\",\"taken\",\"found\",\"were\",\"baby\",\"sweet\",\"text\",\"crazy\",\"funny\",\"garden\",\"couldn't\",\"sad\",\"boys\",\"re\",\"whether\",\"workers\",\"part\",\"twitter.com/juliahb1/statu\",\"lost\",\"absolute\",\"feeling\",\"moment\",\"managed\",\"girls\",\"extra\",\"celebrated\",\"smile\",\"truly\",\"ok\",\"heaven\",\"afternoon\",\"smiling\",\"person\",\"mrs\",\"strength\",\"beyond\",\"selfless\",\"dont\",\"where\",\"social\",\"distancing\",\"rock\",\"2020\",\"however\",\"wanted\",\"hug\",\"picture\",\"ur\",\"thought\",\"blessed\",\"current\",\"else\",\"mum's\",\"joy\",\"hopefully\",\"face\",\"self\",\"bad\",\"i've\",\"heart\",\"next\",\"mam\",\"fur\",\"step\",\"worth\",\"weird\",\"saying\",\"child\",\"does\",\"unique\",\"grandmas\",\"hearts\",\"both\",\"ya\",\"late\",\"d\",\"pics\",\"tag\",\"9\",\"needed\",\"5\",\"=p\",\"queen\",\"photo\",\"brought\",\"until\",\"three\",\"easy\",\"10\",\"legend\",\"20\",\"same\",\"grandma\",\"nothing\",\"days\",\"everywhere\",\"she's\",\"definitely\",\"group\",\"wishes\",\"cheers\",\"lol\",\"should\",\"hold\",\"hands\",\"why\",\"biological\",\"read\",\"ask\",\"went\",\"we'll\",\"passed\",\"march\",\"lunch\",\"biggest\",\"inspiration\",\"enjoying\",\"talk\",\"mean\",\"editor\",\"precious\",\"enedina\",\"silva\",\"normal\",\"whose\",\"true\",\";\",\"food\",\"think\",\"left\",\"sometimes\",\"lucky\",\"loves\",\"start\",\"\\u2018\",\"everyday\",\"matter\",\"\\u2014\",\"daughters\",\"four\",\"mummies\",\"change\",\"thing\",\"yesterday\",\"yourself\",\"isolating\",\"pic\",\"club\",\"tus\",\"celebration\",\"female\",\"mamas\",\"facetime\",\"called\",\"anything\",\"loads\",\"again\",\"shit\",\"show\",\"spending\",\"grow\",\"\\u2063\",\"try\",\"gone\",\"window\",\"supportive\",\"7\",\"here's\",\"moon\",\"12416762683\",\"4252185\",\"appreciation\",\"remember\",\"spread\",\"skype\",\"since\",\"=d\",\"media\",\"fuck\",\"dads\",\"giving\",\"\\u0648\",\"raising\",\"we've\",\"become\",\"tea\",\"rosie\",\"once\",\"unconditional\",\"light\",\"y\",\"posted\",\"inside\",\"vulnerable\",\"don\",\"didn't\",\"tomorrow\",\"makes\",\"country\",\"duchess\",\"probably\",\"sent\",\"adoptive\",\"dinner\",\"watching\",\"*\",\"community\",\"8\",\"mamma\",\"planned\",\"came\",\"ireland\",\":)\",\"boy\",\"evening\",\"bed\",\"\\u2022\",\"there's\",\"massive\",\"asked\",\"\\u060c\",\"cake\"],\"x\":{\"__ndarray__\":\"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\",\"dtype\":\"float32\",\"shape\":[756]},\"y\":{\"__ndarray__\":\"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\",\"dtype\":\"float32\",\"shape\":[756]}},\"selected\":{\"id\":\"1099\"},\"selection_policy\":{\"id\":\"1098\"}},\"id\":\"1090\",\"type\":\"ColumnDataSource\"},{\"attributes\":{\"bottom_units\":\"screen\",\"fill_alpha\":0.5,\"fill_color\":\"lightgrey\",\"left_units\":\"screen\",\"level\":\"overlay\",\"line_alpha\":1.0,\"line_color\":\"black\",\"line_dash\":[4,4],\"line_width\":2,\"render_mode\":\"css\",\"right_units\":\"screen\",\"top_units\":\"screen\"},\"id\":\"1083\",\"type\":\"BoxAnnotation\"},{\"attributes\":{},\"id\":\"1076\",\"type\":\"LinearScale\"},{\"attributes\":{},\"id\":\"1074\",\"type\":\"LinearScale\"},{\"attributes\":{},\"id\":\"1079\",\"type\":\"WheelZoomTool\"},{\"attributes\":{\"overlay\":{\"id\":\"1083\"}},\"id\":\"1080\",\"type\":\"BoxZoomTool\"},{\"attributes\":{},\"id\":\"1081\",\"type\":\"ResetTool\"},{\"attributes\":{\"callback\":null,\"tooltips\":[[\"word\",\"@words\"]]},\"id\":\"1082\",\"type\":\"HoverTool\"},{\"attributes\":{\"data_source\":{\"id\":\"1090\"},\"glyph\":{\"id\":\"1092\"},\"hover_glyph\":null,\"muted_glyph\":null,\"nonselection_glyph\":{\"id\":\"1093\"},\"selection_glyph\":null,\"view\":{\"id\":\"1095\"}},\"id\":\"1094\",\"type\":\"GlyphRenderer\"},{\"attributes\":{\"fill_alpha\":{\"value\":0.1},\"fill_color\":{\"value\":\"#1f77b4\"},\"line_alpha\":{\"value\":0.1},\"line_color\":{\"value\":\"#1f77b4\"},\"x\":{\"field\":\"x\"},\"y\":{\"field\":\"y\"}},\"id\":\"1093\",\"type\":\"Scatter\"},{\"attributes\":{\"text\":\"A map of 10000 word vectors\"},\"id\":\"1068\",\"type\":\"Title\"}],\"root_ids\":[\"1067\"]},\"title\":\"Bokeh Application\",\"version\":\"2.0.2\"}};\n",
       "  var render_items = [{\"docid\":\"3df3ffe2-c28c-429b-b95b-c3cd05bad215\",\"root_ids\":[\"1067\"],\"roots\":{\"1067\":\"de06c759-5168-48fa-b03d-34dacd02121f\"}}];\n",
       "  root.Bokeh.embed.embed_items_notebook(docs_json, render_items);\n",
       "\n",
       "  }\n",
       "  if (root.Bokeh !== undefined) {\n",
       "    embed_document(root);\n",
       "  } else {\n",
       "    var attempts = 0;\n",
       "    var timer = setInterval(function(root) {\n",
       "      if (root.Bokeh !== undefined) {\n",
       "        clearInterval(timer);\n",
       "        embed_document(root);\n",
       "      } else {\n",
       "        attempts++;\n",
       "        if (attempts > 100) {\n",
       "          clearInterval(timer);\n",
       "          console.log(\"Bokeh: ERROR: Unable to run BokehJS code because BokehJS library is missing\");\n",
       "        }\n",
       "      }\n",
       "    }, 10, root)\n",
       "  }\n",
       "})(window);"
      ],
      "application/vnd.bokehjs_exec.v0+json": ""
     },
     "metadata": {
      "application/vnd.bokehjs_exec.v0+json": {
       "id": "1067"
      }
     },
     "output_type": "display_data"
    }
   ],
   "source": [
    "import bokeh.plotting as bp\n",
    "from bokeh.models import HoverTool, BoxSelectTool\n",
    "from bokeh.plotting import figure, show, output_notebook\n",
    "\n",
    "# defining the chart\n",
    "output_notebook()\n",
    "plot_tfidf = bp.figure(plot_width=700, plot_height=600, title=\"A map of 10000 word vectors\",\n",
    "    tools=\"pan,wheel_zoom,box_zoom,reset,hover\",\n",
    "    x_axis_type=None, y_axis_type=None, min_border=1)\n",
    "\n",
    "# getting a list of word vectors. limit to 10000. each is of 200 dimensions\n",
    "word_vectors = [tweet_w2v[w] for w in list(tweet_w2v.wv.vocab.keys())[:5000]]\n",
    "\n",
    "# dimensionality reduction. converting the vectors to 2d vectors\n",
    "from sklearn.manifold import TSNE\n",
    "tsne_model = TSNE(n_components=2, verbose=1, random_state=0)\n",
    "tsne_w2v = tsne_model.fit_transform(word_vectors)\n",
    "\n",
    "# putting everything in a dataframe\n",
    "tsne_df = pd.DataFrame(tsne_w2v, columns=['x', 'y'])\n",
    "tsne_df['words'] = list(tweet_w2v.wv.vocab.keys())[:5000]\n",
    "\n",
    "# plotting. the corresponding word appears when you hover on the data point.\n",
    "plot_tfidf.scatter(x='x', y='y', source=tsne_df)\n",
    "hover = plot_tfidf.select(dict(type=HoverTool))\n",
    "hover.tooltips={\"word\": \"@words\"}\n",
    "show(plot_tfidf)"
   ]
  },
  {
   "cell_type": "code",
   "execution_count": 77,
   "metadata": {},
   "outputs": [
    {
     "name": "stdout",
     "output_type": "stream",
     "text": [
      "vocab size : 735\n"
     ]
    }
   ],
   "source": [
    "from sklearn.feature_extraction.text import TfidfVectorizer\n",
    "vectorizer = TfidfVectorizer(analyzer=lambda x: x, min_df=10)\n",
    "matrix = vectorizer.fit_transform([x.words for x in x_train])\n",
    "tfidf = dict(zip(vectorizer.get_feature_names(), vectorizer.idf_))\n",
    "print('vocab size :', len(tfidf))"
   ]
  },
  {
   "cell_type": "code",
   "execution_count": 78,
   "metadata": {},
   "outputs": [],
   "source": [
    "def buildWordVector(tokens, size):\n",
    "    vec = np.zeros(size).reshape((1, size))\n",
    "    count = 0.\n",
    "    for word in tokens:\n",
    "        try:\n",
    "            vec += tweet_w2v[word].reshape((1, size)) * tfidf[word]\n",
    "            count += 1.\n",
    "        except KeyError: # handling the case where the token is not\n",
    "                         # in the corpus. useful for testing.\n",
    "            continue\n",
    "    if count != 0:\n",
    "        vec /= count\n",
    "    return vec"
   ]
  },
  {
   "cell_type": "code",
   "execution_count": 79,
   "metadata": {},
   "outputs": [
    {
     "name": "stderr",
     "output_type": "stream",
     "text": [
      "0it [00:00, ?it/s]/usr/local/lib/python3.7/site-packages/ipykernel_launcher.py:6: DeprecationWarning: Call to deprecated `__getitem__` (Method will be removed in 4.0.0, use self.wv.__getitem__() instead).\n",
      "  \n",
      "2588it [00:01, 1326.53it/s]\n",
      "0it [00:00, ?it/s]/usr/local/lib/python3.7/site-packages/ipykernel_launcher.py:6: DeprecationWarning: Call to deprecated `__getitem__` (Method will be removed in 4.0.0, use self.wv.__getitem__() instead).\n",
      "  \n",
      "647it [00:00, 1452.97it/s]\n"
     ]
    }
   ],
   "source": [
    "from sklearn.preprocessing import scale\n",
    "train_vecs_w2v = np.concatenate([buildWordVector(z, n_dim) for z in tqdm(map(lambda x: x.words, x_train))])\n",
    "train_vecs_w2v = scale(train_vecs_w2v)\n",
    "\n",
    "val_vecs_w2v = np.concatenate([buildWordVector(z, n_dim) for z in tqdm(map(lambda x: x.words, x_val))])\n",
    "val_vecs_w2v = scale(val_vecs_w2v)"
   ]
  },
  {
   "cell_type": "code",
   "execution_count": 144,
   "metadata": {},
   "outputs": [
    {
     "data": {
      "text/plain": [
       "array([-1, -1,  0, ...,  0,  0,  0])"
      ]
     },
     "execution_count": 144,
     "metadata": {},
     "output_type": "execute_result"
    }
   ],
   "source": [
    "y_train"
   ]
  },
  {
   "cell_type": "code",
   "execution_count": 145,
   "metadata": {},
   "outputs": [
    {
     "name": "stdout",
     "output_type": "stream",
     "text": [
      "Train on 2588 samples\n",
      "Epoch 1/9\n",
      "2588/2588 - 1s - loss: 1.1046 - accuracy: 0.4660\n",
      "Epoch 2/9\n",
      "2588/2588 - 0s - loss: 1.0441 - accuracy: 0.5104\n",
      "Epoch 3/9\n",
      "2588/2588 - 0s - loss: 1.0327 - accuracy: 0.5147\n",
      "Epoch 4/9\n",
      "2588/2588 - 0s - loss: 1.0329 - accuracy: 0.5158\n",
      "Epoch 5/9\n",
      "2588/2588 - 0s - loss: 1.0260 - accuracy: 0.5220\n",
      "Epoch 6/9\n",
      "2588/2588 - 0s - loss: 1.0248 - accuracy: 0.5216\n",
      "Epoch 7/9\n",
      "2588/2588 - 0s - loss: 1.0232 - accuracy: 0.5185\n",
      "Epoch 8/9\n",
      "2588/2588 - 0s - loss: 1.0177 - accuracy: 0.5205\n",
      "Epoch 9/9\n",
      "2588/2588 - 0s - loss: 1.0176 - accuracy: 0.5209\n"
     ]
    },
    {
     "data": {
      "text/plain": [
       "<tensorflow.python.keras.callbacks.History at 0x13faf2990>"
      ]
     },
     "execution_count": 145,
     "metadata": {},
     "output_type": "execute_result"
    }
   ],
   "source": [
    "import tensorflow as tf\n",
    "from tensorflow.keras.models import Sequential\n",
    "from tensorflow.keras.layers import Dense, Dropout, BatchNormalization, Activation\n",
    "from tensorflow.keras.optimizers import Adam\n",
    "from tensorflow.keras.optimizers.schedules import InverseTimeDecay\n",
    "from tensorflow.keras.callbacks import EarlyStopping\n",
    "from keras.utils import to_categorical\n",
    "\n",
    "model = Sequential()\n",
    "model.add(Dense(32, activation='relu', input_dim=200))\n",
    "model.add(Dense(3, activation='softmax'))\n",
    "model.compile( optimizer='adam',loss='categorical_crossentropy',metrics=['accuracy'])\n",
    "\n",
    "model.fit(train_vecs_w2v, to_categorical(y_train, 3), epochs=9, batch_size=32, verbose=2)"
   ]
  },
  {
   "cell_type": "code",
   "execution_count": 147,
   "metadata": {},
   "outputs": [
    {
     "data": {
      "text/plain": [
       "array([-1, -1, -1, -1,  0,  0, -1,  0,  1, -1, -1, -1,  1,  0,  0,  0,  0,\n",
       "        1,  1,  0,  1,  0, -1,  0, -1,  1,  1,  0, -1,  0,  0,  0,  0,  0,\n",
       "        0,  1,  0,  0,  0,  0,  0,  1,  0,  0, -1,  0,  0,  0, -1, -1,  0,\n",
       "        1,  0,  0, -1, -1,  0, -1,  0,  0, -1,  1, -1,  0,  0,  1,  1,  0,\n",
       "        0,  0,  0, -1,  0,  1,  0,  1,  1,  0,  1,  0,  0,  1,  1, -1,  1,\n",
       "       -1,  1,  0,  0,  0,  0,  0,  0, -1, -1,  0,  0,  1,  0, -1,  1, -1,\n",
       "        0,  1,  0,  0,  0,  0, -1,  0, -1,  1,  1,  0,  1,  1,  1, -1, -1,\n",
       "       -1,  0, -1, -1,  0,  1,  0,  0,  0,  1, -1,  1,  1,  0,  0,  0, -1,\n",
       "       -1,  1,  0,  0, -1,  1, -1, -1,  0,  0,  0,  0,  1, -1,  0,  0,  0,\n",
       "       -1,  1, -1,  0, -1,  1, -1,  0, -1,  0,  0,  0,  1,  1,  1,  0,  0,\n",
       "        1,  1,  0,  0, -1, -1, -1,  0, -1,  1,  0,  0,  0,  0,  0,  1,  0,\n",
       "        0,  0,  0,  1,  1, -1,  0, -1,  0,  1,  0,  1,  0,  0, -1,  1,  1,\n",
       "        1,  0,  0,  0, -1,  0,  1, -1,  0,  1,  0,  0,  0,  0,  0,  0,  1,\n",
       "        0,  1,  0, -1,  0,  0,  0, -1, -1,  0,  1, -1, -1,  1,  0, -1,  1,\n",
       "       -1,  0, -1,  0,  0,  0,  0,  1,  0,  1,  1,  0,  0, -1,  0,  0,  1,\n",
       "        1,  0,  1,  0, -1,  0,  0,  0, -1, -1,  0,  0,  0,  0, -1, -1,  1,\n",
       "       -1,  0,  0,  0,  0,  1,  0, -1,  1,  1,  0,  1,  1,  1,  0,  0, -1,\n",
       "        0,  0, -1,  0,  0, -1, -1, -1,  0,  1,  0, -1,  0,  0,  0,  0,  0,\n",
       "        1,  0,  1,  1, -1,  0,  0,  0,  0,  0,  0,  0,  0,  0, -1,  0, -1,\n",
       "        0, -1,  0,  0,  1,  0, -1, -1,  1,  1,  0, -1,  0,  1,  0,  0,  1,\n",
       "        0,  0,  1,  0,  0,  0,  0,  0,  0, -1, -1, -1,  0,  0, -1, -1, -1,\n",
       "        0,  0,  0, -1, -1,  0, -1, -1,  0,  0, -1,  1, -1,  0, -1,  0,  0,\n",
       "        0, -1,  1,  0,  1, -1,  1,  1,  0,  0, -1,  0,  0,  0,  0,  0, -1,\n",
       "       -1,  0,  1,  0,  0, -1,  1, -1,  1,  0,  0,  0,  0,  0,  0,  0,  0,\n",
       "        0,  0,  0, -1,  1,  0, -1,  0,  1,  0,  1, -1,  0,  0,  1,  0,  1,\n",
       "       -1, -1,  1,  0, -1, -1,  0, -1,  0,  0,  0,  1,  0,  0,  1,  0, -1,\n",
       "        0,  1,  0,  1,  0, -1,  0, -1,  1,  0,  0, -1, -1,  1, -1,  0,  0,\n",
       "       -1,  1,  0,  1,  0,  0, -1, -1, -1, -1, -1,  0,  0,  1,  0,  1,  0,\n",
       "        1,  0,  1,  1,  0,  1,  0,  1, -1,  0, -1,  0,  0,  1, -1, -1, -1,\n",
       "        1, -1,  0,  1,  0,  0,  0,  0, -1,  0, -1,  0, -1,  0,  1,  0, -1,\n",
       "        0,  0,  0,  0,  1,  1, -1, -1,  0,  0,  0,  1, -1,  1,  1,  0,  1,\n",
       "        0,  0,  0, -1,  1,  0,  0,  0,  0,  0, -1,  1,  1,  1,  1,  0,  1,\n",
       "        0,  1, -1, -1, -1,  0,  0, -1,  0, -1,  0,  0,  0,  0, -1, -1,  1,\n",
       "        0,  0, -1,  0,  0,  1,  0,  0, -1,  1,  1,  0,  1,  0,  0,  0,  0,\n",
       "       -1,  0,  0, -1, -1,  0,  0,  0,  0, -1,  0, -1, -1, -1,  1,  0,  1,\n",
       "        1,  1,  0,  0,  0,  0, -1, -1,  1, -1,  0,  0,  0,  0,  0,  0, -1,\n",
       "        0,  1,  0, -1,  1,  0,  0,  1,  1,  1,  0,  0,  0,  0, -1,  1,  1,\n",
       "        0,  1,  0,  1,  1,  0,  0,  0, -1, -1,  0,  0, -1,  0,  0,  0,  0,\n",
       "       -1])"
      ]
     },
     "execution_count": 147,
     "metadata": {},
     "output_type": "execute_result"
    }
   ],
   "source": [
    "y_val"
   ]
  },
  {
   "cell_type": "code",
   "execution_count": 148,
   "metadata": {},
   "outputs": [
    {
     "name": "stdout",
     "output_type": "stream",
     "text": [
      "647/647 - 0s - loss: 1.0768 - accuracy: 0.5178\n"
     ]
    }
   ],
   "source": [
    "score = model.evaluate(val_vecs_w2v, to_categorical(y_val, 3), batch_size=128, verbose=2)"
   ]
  },
  {
   "cell_type": "code",
   "execution_count": 149,
   "metadata": {},
   "outputs": [],
   "source": [
    "test_data = postprocess(test_df)"
   ]
  },
  {
   "cell_type": "code",
   "execution_count": 150,
   "metadata": {},
   "outputs": [
    {
     "data": {
      "text/html": [
       "<div>\n",
       "<style scoped>\n",
       "    .dataframe tbody tr th:only-of-type {\n",
       "        vertical-align: middle;\n",
       "    }\n",
       "\n",
       "    .dataframe tbody tr th {\n",
       "        vertical-align: top;\n",
       "    }\n",
       "\n",
       "    .dataframe thead th {\n",
       "        text-align: right;\n",
       "    }\n",
       "</style>\n",
       "<table border=\"1\" class=\"dataframe\">\n",
       "  <thead>\n",
       "    <tr style=\"text-align: right;\">\n",
       "      <th></th>\n",
       "      <th>id</th>\n",
       "      <th>original_text</th>\n",
       "      <th>lang</th>\n",
       "      <th>retweet_count</th>\n",
       "      <th>original_author</th>\n",
       "      <th>clean_tweet</th>\n",
       "      <th>tokens</th>\n",
       "    </tr>\n",
       "  </thead>\n",
       "  <tbody>\n",
       "    <tr>\n",
       "      <td>0</td>\n",
       "      <td>1.246628e+18</td>\n",
       "      <td>3. Yeah, I once cooked potatoes when I was 3 y...</td>\n",
       "      <td>en</td>\n",
       "      <td>0</td>\n",
       "      <td>LToddWood</td>\n",
       "      <td>3 yeah cook potato 3 year old mean threw bag s...</td>\n",
       "      <td>[3, ., yeah, ,, i, once, cooked, potatoes, whe...</td>\n",
       "    </tr>\n",
       "    <tr>\n",
       "      <td>1</td>\n",
       "      <td>1.245898e+18</td>\n",
       "      <td>Happy Mother's Day to all the mums, step-mums,...</td>\n",
       "      <td>en</td>\n",
       "      <td>0</td>\n",
       "      <td>iiarushii</td>\n",
       "      <td>happi mother day mum stepmum grandmoth dad cov...</td>\n",
       "      <td>[happy, mother's, day, to, all, the, mums, ,, ...</td>\n",
       "    </tr>\n",
       "    <tr>\n",
       "      <td>2</td>\n",
       "      <td>1.244717e+18</td>\n",
       "      <td>I love the people from the UK, however, when I...</td>\n",
       "      <td>en</td>\n",
       "      <td>0</td>\n",
       "      <td>andreaanderegg</td>\n",
       "      <td>love peopl uk howev awok saw mothersday trend ...</td>\n",
       "      <td>[i, love, the, people, from, the, uk, ,, howev...</td>\n",
       "    </tr>\n",
       "    <tr>\n",
       "      <td>3</td>\n",
       "      <td>1.245730e+18</td>\n",
       "      <td>Happy 81st Birthday Happy Mother’s Day to my m...</td>\n",
       "      <td>en</td>\n",
       "      <td>1</td>\n",
       "      <td>TheBookTweeters</td>\n",
       "      <td>happi 81st birthday happi mother day mum can't...</td>\n",
       "      <td>[happy, 81st, birthday, happy, mother, ’, s, d...</td>\n",
       "    </tr>\n",
       "    <tr>\n",
       "      <td>4</td>\n",
       "      <td>1.244636e+18</td>\n",
       "      <td>Happy Mothers day to all those wonderful mothe...</td>\n",
       "      <td>en</td>\n",
       "      <td>0</td>\n",
       "      <td>andreaanderegg</td>\n",
       "      <td>happi mother day wonder mother world live pres...</td>\n",
       "      <td>[happy, mothers, day, to, all, those, wonderfu...</td>\n",
       "    </tr>\n",
       "  </tbody>\n",
       "</table>\n",
       "</div>"
      ],
      "text/plain": [
       "             id                                      original_text lang  \\\n",
       "0  1.246628e+18  3. Yeah, I once cooked potatoes when I was 3 y...   en   \n",
       "1  1.245898e+18  Happy Mother's Day to all the mums, step-mums,...   en   \n",
       "2  1.244717e+18  I love the people from the UK, however, when I...   en   \n",
       "3  1.245730e+18  Happy 81st Birthday Happy Mother’s Day to my m...   en   \n",
       "4  1.244636e+18  Happy Mothers day to all those wonderful mothe...   en   \n",
       "\n",
       "  retweet_count  original_author  \\\n",
       "0             0        LToddWood   \n",
       "1             0        iiarushii   \n",
       "2             0   andreaanderegg   \n",
       "3             1  TheBookTweeters   \n",
       "4             0   andreaanderegg   \n",
       "\n",
       "                                         clean_tweet  \\\n",
       "0  3 yeah cook potato 3 year old mean threw bag s...   \n",
       "1  happi mother day mum stepmum grandmoth dad cov...   \n",
       "2  love peopl uk howev awok saw mothersday trend ...   \n",
       "3  happi 81st birthday happi mother day mum can't...   \n",
       "4  happi mother day wonder mother world live pres...   \n",
       "\n",
       "                                              tokens  \n",
       "0  [3, ., yeah, ,, i, once, cooked, potatoes, whe...  \n",
       "1  [happy, mother's, day, to, all, the, mums, ,, ...  \n",
       "2  [i, love, the, people, from, the, uk, ,, howev...  \n",
       "3  [happy, 81st, birthday, happy, mother, ’, s, d...  \n",
       "4  [happy, mothers, day, to, all, those, wonderfu...  "
      ]
     },
     "execution_count": 150,
     "metadata": {},
     "output_type": "execute_result"
    }
   ],
   "source": [
    "test_data.head()"
   ]
  },
  {
   "cell_type": "code",
   "execution_count": 151,
   "metadata": {},
   "outputs": [],
   "source": [
    "x_test = np.array(test_data['tokens'])"
   ]
  },
  {
   "cell_type": "code",
   "execution_count": 152,
   "metadata": {},
   "outputs": [
    {
     "name": "stderr",
     "output_type": "stream",
     "text": [
      "0it [00:00, ?it/s]/usr/local/lib/python3.7/site-packages/ipykernel_launcher.py:9: DeprecationWarning: Call to deprecated `LabeledSentence` (Class will be removed in 4.0.0, use TaggedDocument instead).\n",
      "  if __name__ == '__main__':\n",
      "1387it [00:00, 131356.12it/s]\n"
     ]
    }
   ],
   "source": [
    "x_test = labelizeTweets(x_test, 'TEST')"
   ]
  },
  {
   "cell_type": "code",
   "execution_count": 153,
   "metadata": {},
   "outputs": [
    {
     "data": {
      "text/plain": [
       "LabeledSentence(words=['3', '.', 'yeah', ',', 'i', 'once', 'cooked', 'potatoes', 'when', 'i', 'was', '3', 'years', 'old', ',', 'and', 'by', 'that', 'i', 'mean', 'i', 'threw', 'a', 'bag', 'of', 'spuds', 'into', 'the', 'toilet', '.', '\"', 'happy', 'mothers', 'day', ',', 'i', 'made', 'breakfast', '!', '\"', '66', '.', 'that', 'time', 'i', 'thought', 'i', 'was', 'cool', 'by', 'drawing', 'the', 'naked', 'lady', 'dachshund', 'on', 'the', 'overhead', 'projector', 'in', 'psychology', 'class', '.', '8'], tags=['TEST_0'])"
      ]
     },
     "execution_count": 153,
     "metadata": {},
     "output_type": "execute_result"
    }
   ],
   "source": [
    "x_test[0]"
   ]
  },
  {
   "cell_type": "code",
   "execution_count": 154,
   "metadata": {},
   "outputs": [
    {
     "name": "stderr",
     "output_type": "stream",
     "text": [
      "100%|██████████| 1387/1387 [00:00<00:00, 648044.96it/s]\n",
      "100%|██████████| 1387/1387 [00:00<00:00, 469531.85it/s]\n"
     ]
    },
    {
     "data": {
      "text/plain": [
       "(230348, 517580)"
      ]
     },
     "execution_count": 154,
     "metadata": {},
     "output_type": "execute_result"
    }
   ],
   "source": [
    "n_dim = 200\n",
    "tweet_w2v_test = Word2Vec(size=n_dim, min_count=10)\n",
    "tweet_w2v_test.build_vocab([x.words for x in tqdm(x_test)])\n",
    "tweet_w2v_test.train([x.words for x in tqdm(x_test)], total_examples=len(x_test), epochs=10)"
   ]
  },
  {
   "cell_type": "code",
   "execution_count": 155,
   "metadata": {},
   "outputs": [
    {
     "name": "stderr",
     "output_type": "stream",
     "text": [
      "0it [00:00, ?it/s]/usr/local/lib/python3.7/site-packages/ipykernel_launcher.py:6: DeprecationWarning: Call to deprecated `__getitem__` (Method will be removed in 4.0.0, use self.wv.__getitem__() instead).\n",
      "  \n",
      "1387it [00:01, 1217.53it/s]\n"
     ]
    }
   ],
   "source": [
    "test_vecs_w2v = np.concatenate([buildWordVector(z, n_dim) for z in tqdm(map(lambda x: x.words, x_test))])\n",
    "test_vecs_w2v = scale(test_vecs_w2v)"
   ]
  },
  {
   "cell_type": "code",
   "execution_count": 156,
   "metadata": {},
   "outputs": [],
   "source": [
    "test_predictions = model.predict(test_vecs_w2v)"
   ]
  },
  {
   "cell_type": "code",
   "execution_count": 141,
   "metadata": {},
   "outputs": [
    {
     "data": {
      "text/plain": [
       "array([0.43673107, 0.36702523, 0.19624373], dtype=float32)"
      ]
     },
     "execution_count": 141,
     "metadata": {},
     "output_type": "execute_result"
    }
   ],
   "source": [
    "test_predictions[1]"
   ]
  },
  {
   "cell_type": "code",
   "execution_count": 157,
   "metadata": {},
   "outputs": [
    {
     "name": "stdout",
     "output_type": "stream",
     "text": [
      "[0, 2, 0]\n"
     ]
    }
   ],
   "source": [
    "label = [np.argmax(i) for i in test_predictions]\n",
    "class_label = [x for x in label]\n",
    "print(class_label[:3])\n",
    "submission = pd.DataFrame({ 'id': test_df.id, 'sentiment_class': class_label })\n",
    "submission.to_csv('test0050.csv', index=False)"
   ]
  },
  {
   "cell_type": "code",
   "execution_count": 160,
   "metadata": {},
   "outputs": [],
   "source": [
    "df_test = pd.read_csv('test0050.csv')\n",
    "def replace_two(n):\n",
    "    if n == 2:\n",
    "        return -1\n",
    "    else:\n",
    "        return n\n",
    "df_test['sentiment_class'] = df_test['sentiment_class'].apply(replace_two)"
   ]
  },
  {
   "cell_type": "code",
   "execution_count": 161,
   "metadata": {},
   "outputs": [],
   "source": [
    "df_test.to_csv('test_0058.csv', index=False)"
   ]
  },
  {
   "cell_type": "code",
   "execution_count": null,
   "metadata": {},
   "outputs": [],
   "source": []
  }
 ],
 "metadata": {
  "kernelspec": {
   "display_name": "Python 3",
   "language": "python",
   "name": "python3"
  },
  "language_info": {
   "codemirror_mode": {
    "name": "ipython",
    "version": 3
   },
   "file_extension": ".py",
   "mimetype": "text/x-python",
   "name": "python",
   "nbconvert_exporter": "python",
   "pygments_lexer": "ipython3",
   "version": "3.7.6"
  }
 },
 "nbformat": 4,
 "nbformat_minor": 2
}
